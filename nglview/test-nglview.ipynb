{
 "cells": [
  {
   "cell_type": "code",
   "execution_count": 1,
   "metadata": {},
   "outputs": [
    {
     "name": "stderr",
     "output_type": "stream",
     "text": [
      "SIMPLE-WARNING: \n",
      "Add support for proclaim (TYPE LIST *MAILBOXES*)\n"
     ]
    },
    {
     "data": {
      "text/plain": [
       "#<PROCESS SWANK-MAIN @0x148a2509>"
      ]
     },
     "execution_count": 1,
     "metadata": {},
     "output_type": "execute_result"
    }
   ],
   "source": [
    "(ext:start-swank)"
   ]
  },
  {
   "cell_type": "code",
   "execution_count": 1,
   "metadata": {},
   "outputs": [
    {
     "name": "stdout",
     "output_type": "stream",
     "text": [
      "To load \"drakma\":\n",
      "  Load 7 ASDF systems:\n",
      "    alexandria bordeaux-threads cffi cl-base64\n",
      "    trivial-features uiop usocket\n",
      "  Install 9 Quicklisp releases:\n",
      "    chipz chunga cl+ssl cl-ppcre drakma flexi-streams puri\n",
      "    trivial-garbage trivial-gray-streams\n",
      "==================================================\n",
      "29,942 bytes in 0.45 seconds (64.83KB/sec)\n",
      "==================================================\n",
      "154,559 bytes in 0.20 seconds (750.93KB/sec)\n",
      "==================================================\n",
      "10,053 bytes in 0.00 seconds (2454.35KB/sec)\n",
      "==================================================\n",
      "132,410 bytes in 0.14 seconds (897.96KB/sec)\n",
      "==================================================\n",
      "45,625 bytes in 0.05 seconds (947.99KB/sec)\n",
      "==================================================\n",
      "7,966 bytes in 0.00 seconds (3889.65KB/sec)\n",
      "==================================================\n",
      "21,095 bytes in 0.02 seconds (1211.80KB/sec)\n",
      "==================================================\n",
      "36,734 bytes in 0.04 seconds (1024.94KB/sec)\n",
      "==================================================\n",
      "74,139 bytes in 0.08 seconds (940.28KB/sec)\n",
      "; Loading \"drakma\"\n",
      "\n",
      "\"Read: (IN-PACKAGE :CL-USER)\n",
      "\" \n",
      "\"Read: (DEFPACKAGE :DRAKMA-ASD (:USE :CL :ASDF))\n",
      "\" \n",
      "\"Read: (IN-PACKAGE :DRAKMA-ASD)\n",
      "\" \n",
      "\"Read: (DEFSYSTEM :DRAKMA :DESCRIPTION Full-featured http/https client based on usocket :SERIAL T :VERSION 2.0.4 :COMPONENTS ((:FILE packages) (:FILE specials) (:FILE conditions) (:FILE util) (:FILE read) (:FILE cookies) (:FILE encoding) (:FILE request)) :DEPENDS-ON (:PURI :CL-BASE64 :CHUNGA :FLEXI-STREAMS :CL-PPCRE :CHIPZ :USOCKET :CL+SSL) :PERFORM (TEST-OP (O S) (LOAD-SYSTEM :DRAKMA-TEST) (PERFORM (QUOTE TEST-OP) :DRAKMA-TEST)))\n",
      "\" \n",
      "\"Read: (IN-PACKAGE #:CL-USER)\n",
      "\" \n",
      "\"Read: (DEFPACKAGE #:PURI-SYSTEM (:USE #:CL #:ASDF))\n",
      "\" \n",
      "\"Read: (IN-PACKAGE #:PURI-SYSTEM)\n",
      "\" \n",
      "\"Read: (DEFSYSTEM PURI :NAME cl-puri :MAINTAINER Kevin M. Rosenberg <kmr@debian.org> :LICENCE GNU Lesser General Public License :DESCRIPTION Portable Universal Resource Indentifier Library :COMPONENTS ((:FILE src)))\n",
      "\" \n",
      "\"Read: (DEFMETHOD PERFORM ((O TEST-OP) (C (EQL (FIND-SYSTEM (QUOTE PURI))))) (OOS (QUOTE LOAD-OP) (QUOTE PURI-TESTS)) (OOS (QUOTE TEST-OP) (QUOTE PURI-TESTS)))\n",
      "\" \n",
      "\"Read: (DEFSYSTEM PURI-TESTS :DEPENDS-ON (:PURI :PTESTER) :COMPONENTS ((:FILE tests)))\n",
      "\" \n",
      "\"Read: (DEFMETHOD PERFORM ((O TEST-OP) (C (EQL (FIND-SYSTEM (QUOTE PURI-TESTS))))) (OR (FUNCALL (INTERN (SYMBOL-NAME (QUOTE #:DO-TESTS)) (FIND-PACKAGE :PURI-TESTS))) (ERROR test-op failed)))\n",
      "\" \n",
      "\"Read: (DEFMETHOD OPERATION-DONE-P ((O TEST-OP) (C (EQL (FIND-SYSTEM (QUOTE PURI-TESTS))))) (VALUES NIL))\n",
      "\" \n",
      "\"Read: (DEFSYSTEM :CHUNGA :SERIAL T :VERSION 1.1.6 :DEPENDS-ON (:TRIVIAL-GRAY-STREAMS) :COMPONENTS ((:FILE packages) (:FILE specials) (:FILE util) (:FILE known-words) (:FILE conditions) (:FILE read) (:FILE streams) (:FILE input) (:FILE output)))\n",
      "\" \n",
      "\"Read: (DEFSYSTEM :TRIVIAL-GRAY-STREAMS :DESCRIPTION Compatibility layer for Gray Streams (see http://www.cliki.net/Gray%20streams). :LICENSE MIT :AUTHOR David Lichteblau :MAINTAINER Anton Vodonosov <avodonosov@yandex.ru> :VERSION 2.0 :SERIAL T :COMPONENTS ((:FILE package) (:FILE streams)))\n",
      "\" \n",
      "\"Read: (IN-PACKAGE :CL-USER)\n",
      "\" \n",
      "\"Read: (DEFPACKAGE :FLEXI-STREAMS-SYSTEM (:USE :ASDF :CL))\n",
      "\" \n",
      "\"Read: (IN-PACKAGE :FLEXI-STREAMS-SYSTEM)\n",
      "\" \n",
      "\"Read: (WHEN (<= CHAR-CODE-LIMIT 65533) (ERROR flexi-streams doesn't work on implementations with CHAR-CODE-LIMIT (~a) less than 65533 CHAR-CODE-LIMIT))\n",
      "\" \n",
      "\"Read: (DEFSYSTEM :FLEXI-STREAMS :VERSION 1.0.16 :SERIAL T :DESCRIPTION Flexible bivalent streams for Common Lisp :LICENSE BSD-2-Clause :COMPONENTS ((:FILE packages) (:FILE mapping) (:FILE ascii) (:FILE koi8-r) (:FILE iso-8859) (:FILE code-pages) (:FILE specials) (:FILE util) (:FILE conditions) (:FILE external-format) (:FILE length) (:FILE encode) (:FILE decode) (:FILE in-memory) (:FILE stream) (:FILE output) (:FILE input) (:FILE io) (:FILE strings)) :DEPENDS-ON (:TRIVIAL-GRAY-STREAMS))\n",
      "\" \n",
      "\"Read: (DEFSYSTEM :FLEXI-STREAMS-TEST :COMPONENTS ((:MODULE test :SERIAL T :COMPONENTS ((:FILE packages) (:FILE test)))) :DEPENDS-ON (:FLEXI-STREAMS))\n",
      "\" \n",
      "\"Read: (DEFMETHOD PERFORM ((O TEST-OP) (C (EQL (FIND-SYSTEM (QUOTE FLEXI-STREAMS))))) (OPERATE (QUOTE LOAD-OP) (QUOTE FLEXI-STREAMS-TEST)) (FUNCALL (INTERN (SYMBOL-NAME :RUN-ALL-TESTS) (FIND-PACKAGE :FLEXI-STREAMS-TEST))))\n",
      "\" \n",
      "\"Read: (IN-PACKAGE :CL-USER)\n",
      "\" \n",
      "\"Read: (DEFPACKAGE :CL-PPCRE-ASD (:USE :CL :ASDF))\n",
      "\" \n",
      "\"Read: (IN-PACKAGE :CL-PPCRE-ASD)\n",
      "\" \n",
      "\"Read: (DEFSYSTEM :CL-PPCRE :VERSION 2.0.11 :DESCRIPTION Perl-compatible regular expression library :AUTHOR Dr. Edi Weitz :LICENSE BSD :SERIAL T :COMPONENTS ((:FILE packages) (:FILE specials) (:FILE util) (:FILE errors) (:FILE charset) (:FILE charmap) (:FILE chartest) (:FILE lexer) (:FILE parser) (:FILE regex-class) (:FILE regex-class-util) (:FILE convert) (:FILE optimize) (:FILE closures) (:FILE repetition-closures) (:FILE scanner) (:FILE api)))\n",
      "\" \n",
      "\"Read: (DEFSYSTEM :CL-PPCRE-TEST :DESCRIPTION Perl-compatible regular expression library tests :AUTHOR Dr. Edi Weitz :LICENSE BSD :DEPENDS-ON (:CL-PPCRE :FLEXI-STREAMS) :COMPONENTS ((:MODULE test :SERIAL T :COMPONENTS ((:FILE packages) (:FILE tests) (:FILE perl-tests)))))\n",
      "\" \n",
      "\"Read: (DEFMETHOD PERFORM ((O TEST-OP) (C (EQL (FIND-SYSTEM :CL-PPCRE)))) (OPERATE (QUOTE LOAD-OP) :CL-PPCRE-TEST) (FUNCALL (INTERN (SYMBOL-NAME :RUN-ALL-TESTS) (FIND-PACKAGE :CL-PPCRE-TEST))))\n",
      "\" \n",
      "\"Read: (DEFPACKAGE :CHIPZ-SYSTEM (:USE :CL :ASDF) (:EXPORT #:GRAY-STREAMS))\n",
      "\" \n",
      "\"Read: (IN-PACKAGE :CHIPZ-SYSTEM)\n",
      "\" \n",
      "\"Read: (DEFCLASS TXT-FILE (DOC-FILE) ((TYPE :INITFORM txt)))\n",
      "\" \n",
      "\"Read: (DEFCLASS CSS-FILE (DOC-FILE) ((TYPE :INITFORM css)))\n",
      "\" \n",
      "\"Read: (EVAL-WHEN (:COMPILE-TOPLEVEL :LOAD-TOPLEVEL :EXECUTE))\n",
      "\" \n",
      "\"Read: (DEFSYSTEM :CHIPZ :VERSION 0.8 :AUTHOR Nathan Froyd <froydnj@gmail.com> :MAINTAINER Nathan Froyd <froydnj@gmail.com> :DESCRIPTION A library for decompressing deflate, zlib, and gzip data :LICENSE BSD style :COMPONENTS ((:STATIC-FILE NEWS) (:STATIC-FILE LICENSE) (:STATIC-FILE TODO) (:FILE package) (:MODULE doc :COMPONENTS ((:HTML-FILE index) (:TXT-FILE chipz-doc) (:CSS-FILE style))) (:FILE constants :DEPENDS-ON (package)) (:FILE types-and-tables :DEPENDS-ON (constants)) (:FILE crc32 :DEPENDS-ON (types-and-tables)) (:FILE adler32 :DEPENDS-ON (types-and-tables)) (:FILE conditions :DEPENDS-ON (package)) (:FILE dstate :DEPENDS-ON (package)) (:FILE inflate-state :DEPENDS-ON (dstate crc32 adler32)) (:FILE gzip :DEPENDS-ON (inflate-state conditions)) (:FILE zlib :DEPENDS-ON (inflate-state conditions)) (:FILE inflate :DEPENDS-ON (inflate-state gzip zlib conditions)) (:FILE bzip2 :DEPENDS-ON (dstate constants)) (:FILE decompress :DEPENDS-ON (inflate-state inflate bzip2)) (:FILE stream-fallback :DEPENDS-ON (package))))\n",
      "\" \n",
      "\"Read: (DEFPACKAGE :CL+SSL-SYSTEM (:USE :CL :ASDF))\n",
      "\" \n",
      "\"Read: (IN-PACKAGE :CL+SSL-SYSTEM)\n",
      "\" \n",
      "\"Read: (DEFSYSTEM :CL+SSL :DESCRIPTION Common Lisp interface to OpenSSL. :LICENSE MIT :AUTHOR Eric Marsden, Jochen Schmidt, David Lichteblau :DEPENDS-ON (:CFFI :TRIVIAL-GRAY-STREAMS :FLEXI-STREAMS :BORDEAUX-THREADS :TRIVIAL-GARBAGE :UIOP :ALEXANDRIA :TRIVIAL-FEATURES) :SERIAL T :COMPONENTS ((:MODULE src :SERIAL T :COMPONENTS ((:FILE package) (:FILE reload) (:FILE conditions) (:FILE ffi) (:FILE x509) (:FILE ffi-buffer-all) (:FILE ffi-buffer) (:FILE streams) (:FILE bio) (:FILE random) (:FILE context) (:FILE verify-hostname)))))\n",
      "\" \n",
      "\"Read: (DEFSYSTEM :OPENSSL-1.1.0 :DESCRIPTION FFI bindings to API introduced in OpenSSL 1.1.0 :LICENSE MIT :AUTHOR Anton Vodonosov :DEPENDS-ON (:CFFI) :SERIAL T :COMPONENTS ((:MODULE src :SERIAL T :COMPONENTS ((:FILE ffi-1.1.0)))))\n",
      "\" \n",
      "\"Read: (ERROR Sorry, your Lisp is not supported by trivial-garbage.)\n",
      "\" "
     ]
    },
    {
     "name": "stderr",
     "output_type": "stream",
     "text": [
      "An error occurred of type: LOAD-SYSTEM-DEFINITION-ERROR: \n",
      "  #<ASDF/FIND-SYSTEM:LOAD-SYSTEM-DEFINITION-ERROR>\n"
     ]
    },
    {
     "data": {
      "text/plain": [
       "NIL"
      ]
     },
     "execution_count": 1,
     "metadata": {},
     "output_type": "execute_result"
    }
   ],
   "source": [
    "(ql:quickload \"drakma\")"
   ]
  },
  {
   "cell_type": "code",
   "execution_count": 2,
   "metadata": {},
   "outputs": [
    {
     "data": {
      "text/plain": [
       "1"
      ]
     },
     "execution_count": 2,
     "metadata": {},
     "output_type": "execute_result"
    }
   ],
   "source": [
    "1"
   ]
  },
  {
   "cell_type": "code",
   "execution_count": 3,
   "metadata": {},
   "outputs": [
    {
     "name": "stdout",
     "output_type": "stream",
     "text": [
      "\n",
      "\"Read: (DEFSYSTEM #:NGLVIEW :DESCRIPTION The ngl widget for cl-jupyter with widgets :VERSION 0.1 :AUTHOR Kevin Esslinger :LICENSE LGPL2. See LICENSE. :DEPENDS-ON (:CL-JUPYTER :BORDEAUX-THREADS :TRIVIAL-HTTP) :SERIAL T :COMPONENTS ((:FILE packages) (:FILE queue) (:FILE utils) (:FILE shape) (:FILE pythread) (:FILE stage) (:FILE widget) (:FILE base_adaptor) (:FILE adaptor) (:FILE show) (:FILE player) (:FILE parameters) (:FILE default) (:FILE config)))\n",
      "\" "
     ]
    },
    {
     "data": {
      "text/plain": [
       "T"
      ]
     },
     "execution_count": 3,
     "metadata": {},
     "output_type": "execute_result"
    }
   ],
   "source": [
    "(asdf:load-asd \"~/quicklisp/local-projects/cl-jupyter/nglview/nglview.asd\")\n",
    "(asdf:load-system :nglview) "
   ]
  },
  {
   "cell_type": "code",
   "execution_count": 10,
   "metadata": {},
   "outputs": [
    {
     "data": {
      "text/plain": [
       "*P*"
      ]
     },
     "execution_count": 10,
     "metadata": {},
     "output_type": "execute_result"
    }
   ],
   "source": [
    "(defparameter *p* \"/users/kevin/Development/jd-macrocycles/jd-macrocycles/designs/macrocycles/tetacid/di-ep-mo-epdi-tri-nleu.mol2\")"
   ]
  },
  {
   "cell_type": "code",
   "execution_count": 11,
   "metadata": {},
   "outputs": [
    {
     "data": {
      "text/plain": [
       "#P\"/users/kevin/Development/jd-macrocycles/jd-macrocycles/designs/macrocycles/tetacid/di-ep-mo-epdi-tri-nleu.mol2\""
      ]
     },
     "execution_count": 11,
     "metadata": {},
     "output_type": "execute_result"
    }
   ],
   "source": [
    "(probe-file *p*)"
   ]
  },
  {
   "cell_type": "code",
   "execution_count": 6,
   "metadata": {},
   "outputs": [
    {
     "name": "stderr",
     "output_type": "stream",
     "text": [
      "An error occurred of type: FILE-ERROR: \n",
      "  #<FILE-ERROR>\n"
     ]
    },
    {
     "data": {
      "text/plain": [
       "NIL"
      ]
     },
     "execution_count": 6,
     "metadata": {},
     "output_type": "execute_result"
    }
   ],
   "source": [
    "(defparameter *b* (nglv::show-structure-file *p*))"
   ]
  },
  {
   "cell_type": "code",
   "execution_count": 7,
   "metadata": {},
   "outputs": [
    {
     "name": "stderr",
     "output_type": "stream",
     "text": [
      "An error occurred of type: UNBOUND-VARIABLE: \n",
      "  #<UNBOUND-VARIABLE>\n"
     ]
    },
    {
     "data": {
      "text/plain": [
       "NIL"
      ]
     },
     "execution_count": 7,
     "metadata": {},
     "output_type": "execute_result"
    }
   ],
   "source": [
    "*b*"
   ]
  },
  {
   "cell_type": "code",
   "execution_count": 8,
   "metadata": {},
   "outputs": [
    {
     "name": "stderr",
     "output_type": "stream",
     "text": [
      "An error occurred of type: UNBOUND-VARIABLE: \n",
      "  #<UNBOUND-VARIABLE>\n"
     ]
    },
    {
     "data": {
      "text/plain": [
       "NIL"
      ]
     },
     "execution_count": 8,
     "metadata": {},
     "output_type": "execute_result"
    }
   ],
   "source": [
    "(defparameter *sphere* (vector \"sphere\" (vector 0 0 9) (vector 1 0 0) 1.5))\n",
    "(defparameter *arrow* (vector \"arrow\" (vector 1 2 7) (vector 30 3 3) (vector 1 0 1) 1.0))\n",
    "(nglv::add-shape *b* (vector *sphere* *arrow*) :name \"ashape\")"
   ]
  },
  {
   "cell_type": "code",
   "execution_count": 9,
   "metadata": {},
   "outputs": [
    {
     "name": "stderr",
     "output_type": "stream",
     "text": [
      "An error occurred of type: UNBOUND-VARIABLE: \n",
      "  #<UNBOUND-VARIABLE>\n"
     ]
    },
    {
     "data": {
      "text/plain": [
       "NIL"
      ]
     },
     "execution_count": 9,
     "metadata": {},
     "output_type": "execute_result"
    }
   ],
   "source": [
    "*b*"
   ]
  },
  {
   "cell_type": "code",
   "execution_count": 19,
   "metadata": {},
   "outputs": [
    {
     "data": {
      "text/plain": [
       "T"
      ]
     },
     "execution_count": 19,
     "metadata": {},
     "output_type": "execute_result"
    }
   ],
   "source": [
    "(nglv::add-shape *b* (vector *arrow*) :name \"b\")"
   ]
  },
  {
   "cell_type": "code",
   "execution_count": 15,
   "metadata": {},
   "outputs": [
    {
     "data": {
      "text/plain": [
       "#<CL-JUPYTER::KERNEL>"
      ]
     },
     "execution_count": 15,
     "metadata": {},
     "output_type": "execute_result"
    }
   ],
   "source": [
    "(cl-jupyter-widgets::save-jupyter-cell-state)"
   ]
  },
  {
   "cell_type": "code",
   "execution_count": 14,
   "metadata": {},
   "outputs": [
    {
     "name": "stderr",
     "output_type": "stream",
     "text": [
      "SIMPLE-WARNING: \n",
      "Add support for proclaim (TYPE LIST *MAILBOXES*)\n"
     ]
    },
    {
     "data": {
      "text/plain": [
       "#<PROCESS SWANK-MAIN @0xff730a9>"
      ]
     },
     "execution_count": 14,
     "metadata": {},
     "output_type": "execute_result"
    }
   ],
   "source": [
    "(ext:start-swank)"
   ]
  },
  {
   "cell_type": "code",
   "execution_count": 19,
   "metadata": {},
   "outputs": [
    {
     "data": {
      "text/plain": [
       "#<CL-JUPYTER::KERNEL>"
      ]
     },
     "execution_count": 19,
     "metadata": {},
     "output_type": "execute_result"
    }
   ],
   "source": [
    "(cl-jupyter-widgets::save-state)"
   ]
  },
  {
   "cell_type": "code",
   "execution_count": 20,
   "metadata": {},
   "outputs": [
    {
     "data": {
      "text/plain": [
       "#<CL-JUPYTER:MESSAGE>"
      ]
     },
     "execution_count": 20,
     "metadata": {},
     "output_type": "execute_result"
    }
   ],
   "source": [
    "cl-jupyter-widgets::*debug-parent-msg*"
   ]
  },
  {
   "cell_type": "code",
   "execution_count": null,
   "metadata": {
    "collapsed": true
   },
   "outputs": [],
   "source": [
    "*b*"
   ]
  },
  {
   "cell_type": "code",
   "execution_count": 2,
   "metadata": {
    "scrolled": true
   },
   "outputs": [
    {
     "data": {
      "text/plain": [
       "T"
      ]
     },
     "execution_count": 2,
     "metadata": {},
     "output_type": "execute_result"
    }
   ],
   "source": [
    "(asdf:load-system :nglview)"
   ]
  },
  {
   "cell_type": "code",
   "execution_count": 6,
   "metadata": {},
   "outputs": [
    {
     "name": "stderr",
     "output_type": "stream",
     "text": [
      "SIMPLE-WARNING: \n",
      "What do we do about add_repr_method_shortcut\n",
      "SIMPLE-WARNING: \n",
      "Do something for %update-component-auto-completion\n",
      "SIMPLE-WARNING: \n",
      "Set the Trajectoryplayer\n"
     ]
    },
    {
     "data": {
      "text/plain": [
       "*B*"
      ]
     },
     "execution_count": 8,
     "metadata": {},
     "output_type": "execute_result"
    }
   ],
   "source": [
    "(defparameter *b* (nglv::show-structure-file *p*))"
   ]
  },
  {
   "cell_type": "code",
   "execution_count": 9,
   "metadata": {
    "collapsed": true
   },
   "outputs": [],
   "source": [
    "*b*"
   ]
  },
  {
   "cell_type": "code",
   "execution_count": 10,
   "metadata": {},
   "outputs": [
    {
     "data": {
      "text/plain": [
       "T"
      ]
     },
     "execution_count": 10,
     "metadata": {},
     "output_type": "execute_result"
    }
   ],
   "source": [
    "(nglv::%remote-call *b* \"setSyncCamera\" :target \"Widget\")"
   ]
  },
  {
   "cell_type": "code",
   "execution_count": 11,
   "metadata": {},
   "outputs": [
    {
     "data": {
      "text/plain": [
       "*M*"
      ]
     },
     "execution_count": 11,
     "metadata": {},
     "output_type": "execute_result"
    }
   ],
   "source": [
    "(defparameter *m* (cando:load-mol2 \"/home/app/work/home/Development/jd-macrocycles/jd-macrocycles/synthesized/G_182/G_182.mol2\"))"
   ]
  },
  {
   "cell_type": "code",
   "execution_count": 12,
   "metadata": {},
   "outputs": [
    {
     "name": "stdout",
     "output_type": "stream",
     "text": [
      "Saving matter to /tmp/structure.mol2\n"
     ]
    },
    {
     "data": {
      "text/plain": [
       "\"@<TRIPOS>MOLECULE\n",
       "NIL\n",
       "162 171 1 0 0\n",
       "POLYMER\n",
       "CHARGES\n",
       "\n",
       "\n",
       "@<TRIPOS>ATOM\n",
       "1 O 114.334 74.1482 -2.72655 O.2 1 NIL_1    0.000\n",
       "2 C_1833 114.848 73.956 -1.642 C.2 1 NIL_1    0.000\n",
       "3 BP 116.258 74.489 -1.360 B 1 NIL_1    0.000\n",
       "4 N 114.142 73.354 -0.648 N.am 1 NIL_1    0.000\n",
       "5 C_1815 117.235 73.498 -0.692 C.3 1 NIL_1    0.000\n",
       "6 N 116.370 75.756 -0.594 N.am 1 NIL_1    0.000\n",
       "7 C_1835 112.730 73.790 -0.473 C.3 1 NIL_1    0.000\n",
       "8 C_1870 114.393 71.913 -0.407 C.3 1 NIL_1    0.000\n",
       "9 BQ 118.357 74.413 -0.194 B 1 NIL_1    0.000\n",
       "10 C_1813 117.621 75.707 0.193 C.3 1 NIL_1    0.000\n",
       "11 C_1830 115.556 76.845 -0.715 C.2 1 NIL_1    0.000\n",
       "12 C_1844 111.900 73.322 0.730 C.2 1 NIL_1    0.000\n",
       "13 C_1873 113.378 70.951 -1.058 C.3 1 NIL_1    0.000\n",
       "14 C_1850 119.409 74.639 -1.259 C.2 1 NIL_1    0.000\n",
       "15 NH 119.201 73.840 0.842 N.am 1 NIL_1    0.000\n",
       "16 O 114.564 76.824 -1.418 O.2 1 NIL_1    0.000\n",
       "17 C_1829 115.932 78.092 0.082 C.3 1 NIL_1    0.000\n",
       "18 O 112.303 72.527 1.558 O.2 1 NIL_1    0.000\n",
       "19 N 110.628 73.801 0.805 N.am 1 NIL_1    0.000\n",
       "20 O 113.839 69.608 -0.812 O.3 1 NIL_1    0.000\n",
       "21 N 120.593 74.168 -0.800 N.am 1 NIL_1    0.000\n",
       "22 O 119.231 75.142 -2.352 O.2 1 NIL_1    0.000\n",
       "23 C_1852 120.480 73.679 0.461 C.2 1 NIL_1    0.000\n",
       "24 N 115.188 79.323 -0.300 N.am 1 NIL_1    0.000\n",
       "25 C_1825 109.533 73.143 1.542 C.3 1 NIL_1    0.000\n",
       "26 AP 110.082 74.974 0.082 ANY 1 NIL_1    0.000\n",
       "27 C_1875 112.946 68.566 -1.246 C.3 1 NIL_1    0.000\n",
       "28 C_1864 121.803 74.118 -1.648 C.3 1 NIL_1    0.000\n",
       "29 O 121.351 73.179 1.145 O.2 1 NIL_1    0.000\n",
       "30 C_1838 114.252 79.864 0.537 C.2 1 NIL_1    0.000\n",
       "31 C_1871 115.429 79.804 -1.691 C.3 1 NIL_1    0.000\n",
       "32 AQ 108.222 73.749 1.004 ANY 1 NIL_1    0.000\n",
       "33 C_1843 110.847 76.270 0.328 C.2 1 NIL_1    0.000\n",
       "34 C_1827 108.628 75.152 0.551 C.3 1 NIL_1    0.000\n",
       "35 C_1865 123.159 73.946 -0.989 C.2 1 NIL_1    0.000\n",
       "36 CP 113.275 80.904 -0.016 C.3 1 NIL_1    0.000\n",
       "37 O 114.162 79.510 1.699 O.2 1 NIL_1    0.000\n",
       "38 C_1876 116.856 79.662 -2.279 C.3 1 NIL_1    0.000\n",
       "39 C_1846 107.620 73.000 -0.163 C.2 1 NIL_1    0.000\n",
       "40 NH 107.083 73.731 1.906 N.am 1 NIL_1    0.000\n",
       "41 O 111.399 76.456 1.398 O.2 1 NIL_1    0.000\n",
       "42 N 110.888 77.225 -0.650 N.am 1 NIL_1    0.000\n",
       "43 C_2196 123.777 74.988 -0.427 C.2 1 NIL_1    0.000\n",
       "44 C_2188 123.761 72.753 -0.964 C.2 1 NIL_1    0.000\n",
       "45 C_1818 113.697 82.322 0.423 C.3 1 NIL_1    0.000\n",
       "46 N 111.879 80.700 0.429 N.am 1 NIL_1    0.000\n",
       "47 O 117.715 80.758 -1.870 O.3 1 NIL_1    0.000\n",
       "48 N 106.302 72.819 0.093 N.am 1 NIL_1    0.000\n",
       "49 O 108.198 72.658 -1.177 O.2 1 NIL_1    0.000\n",
       "50 C_1848 105.967 73.249 1.332 C.2 1 NIL_1    0.000\n",
       "51 C_1840 111.742 78.419 -0.499 C.3 1 NIL_1    0.000\n",
       "52 C_1872 110.288 77.144 -2.000 C.3 1 NIL_1    0.000\n",
       "53 C_2194 124.968 74.837 0.154 C.2 1 NIL_1    0.000\n",
       "54 C_2190 124.953 72.599 -0.380 C.2 1 NIL_1    0.000\n",
       "55 CQ 112.368 83.057 0.631 C.3 1 NIL_1    0.000\n",
       "56 C_1816 111.373 81.950 1.013 C.3 1 NIL_1    0.000\n",
       "57 C_1841 111.123 79.576 0.277 C.2 1 NIL_1    0.000\n",
       "58 C_1878 118.060 80.881 -0.472 C.3 1 NIL_1    0.000\n",
       "59 C_1866 105.321 72.433 -0.936 C.3 1 NIL_1    0.000\n",
       "60 O 104.862 73.232 1.839 O.2 1 NIL_1    0.000\n",
       "61 C_1879 108.961 77.909 -2.127 C.3 1 NIL_1    0.000\n",
       "62 C_2192 125.568 73.644 0.192 C.2 1 NIL_1    0.000\n",
       "63 C_1854 111.931 83.809 -0.605 C.2 1 NIL_1    0.000\n",
       "64 NH 112.418 84.163 1.570 N.am 1 NIL_1    0.000\n",
       "65 O 109.995 79.514 0.728 O.2 1 NIL_1    0.000\n",
       "66 C_1867 104.396 71.283 -0.596 C.2 1 NIL_1    0.000\n",
       "67 O 108.619 77.919 -3.528 O.3 1 NIL_1    0.000\n",
       "68 O 126.790 73.566 0.816 O.3 1 NIL_1    0.000\n",
       "69 N 111.787 85.117 -0.282 N.am 1 NIL_1    0.000\n",
       "70 O 111.728 83.330 -1.705 O.2 1 NIL_1    0.000\n",
       "71 C_1856 112.061 85.340 1.030 C.2 1 NIL_1    0.000\n",
       "72 C_2172 104.852 70.029 -0.546 C.2 1 NIL_1    0.000\n",
       "73 C_2180 103.099 71.504 -0.362 C.2 1 NIL_1    0.000\n",
       "74 C_1881 107.339 78.497 -3.851 C.3 1 NIL_1    0.000\n",
       "75 C_2269 127.313 72.271 1.206 C.3 1 NIL_1    0.000\n",
       "76 C_1868 111.318 86.122 -1.259 C.3 1 NIL_1    0.000\n",
       "77 O 111.997 86.388 1.640 O.2 1 NIL_1    0.000\n",
       "78 C_2174 104.029 69.018 -0.259 C.2 1 NIL_1    0.000\n",
       "79 C_2178 102.274 70.497 -0.075 C.2 1 NIL_1    0.000\n",
       "80 C_1869 111.460 87.591 -0.911 C.2 1 NIL_1    0.000\n",
       "81 C_2176 102.732 69.237 -0.022 C.2 1 NIL_1    0.000\n",
       "82 C_2204 112.612 88.236 -1.114 C.2 1 NIL_1    0.000\n",
       "83 C_2212 110.433 88.263 -0.383 C.2 1 NIL_1    0.000\n",
       "84 O 101.942 68.151 0.267 O.3 1 NIL_1    0.000\n",
       "85 C_2206 112.738 89.526 -0.795 C.2 1 NIL_1    0.000\n",
       "86 C_2210 110.557 89.551 -0.060 C.2 1 NIL_1    0.000\n",
       "87 C_2273 100.500 68.276 0.177 C.3 1 NIL_1    0.000\n",
       "88 C_2208 111.708 90.199 -0.261 C.2 1 NIL_1    0.000\n",
       "89 O 111.760 91.524 0.101 O.3 1 NIL_1    0.000\n",
       "90 C_2271 112.886 92.335 -0.314 C.3 1 NIL_1    0.000\n",
       "91 H_22711 113.805 91.950 0.134 H 1 NIL_1    0.000\n",
       "92 H_22712 112.722 93.360 0.027 H 1 NIL_1    0.000\n",
       "93 H_22713 112.962 92.320 -1.405 H 1 NIL_1    0.000\n",
       "94 H_22731 100.138 68.966 0.945 H 1 NIL_1    0.000\n",
       "95 H_22732 100.052 67.293 0.340 H 1 NIL_1    0.000\n",
       "96 H_22733 100.227 68.640 -0.818 H 1 NIL_1    0.000\n",
       "97 H_2210 109.707 90.076 0.372 H 1 NIL_1    0.000\n",
       "98 H_2206 113.697 90.006 -0.975 H 1 NIL_1    0.000\n",
       "99 H_2212 109.487 87.758 -0.207 H 1 NIL_1    0.000\n",
       "100 H_2204 113.463 87.710 -1.540 H 1 NIL_1    0.000\n",
       "101 H_2178 101.229 70.729 0.113 H 1 NIL_1    0.000\n",
       "102 H_2174 104.423 68.004 -0.223 H 1 NIL_1    0.000\n",
       "103 H_18681 110.262 85.912 -1.453 H 1 NIL_1    0.000\n",
       "104 H_18682 111.852 85.944 -2.197 H 1 NIL_1    0.000\n",
       "105 H_22691 126.584 71.758 1.839 H 1 NIL_1    0.000\n",
       "106 H_22692 128.239 72.419 1.768 H 1 NIL_1    0.000\n",
       "107 H_22693 127.527 71.675 0.314 H 1 NIL_1    0.000\n",
       "108 H_18811 107.256 78.579 -4.938 H 1 NIL_1    0.000\n",
       "109 H_18812 107.264 79.490 -3.400 H 1 NIL_1    0.000\n",
       "110 H_18813 106.546 77.849 -3.465 H 1 NIL_1    0.000\n",
       "111 H_2180 102.703 72.517 -0.404 H 1 NIL_1    0.000\n",
       "112 H_2172 105.902 69.826 -0.744 H 1 NIL_1    0.000\n",
       "113 H_18791 108.169 77.419 -1.554 H 1 NIL_1    0.000\n",
       "114 H_18792 109.071 78.942 -1.785 H 1 NIL_1    0.000\n",
       "115 H_18661 105.852 72.185 -1.858 H 1 NIL_1    0.000\n",
       "116 H_18662 104.719 73.321 -1.151 H 1 NIL_1    0.000\n",
       "117 H_18781 118.468 79.935 -0.106 H 1 NIL_1    0.000\n",
       "118 H_18782 117.173 81.157 0.103 H 1 NIL_1    0.000\n",
       "119 H_18783 118.816 81.664 -0.368 H 1 NIL_1    0.000\n",
       "120 H_18161 111.341 81.838 2.100 H 1 NIL_1    0.000\n",
       "121 H_18162 110.372 82.179 0.638 H 1 NIL_1    0.000\n",
       "122 H_2190 125.406 71.612 -0.386 H 1 NIL_1    0.000\n",
       "123 H_2194 125.452 75.698 0.607 H 1 NIL_1    0.000\n",
       "124 H_18721 110.122 76.112 -2.303 H 1 NIL_1    0.000\n",
       "125 H_18722 110.992 77.559 -2.727 H 1 NIL_1    0.000\n",
       "126 H_18401 112.044 78.808 -1.474 H 1 NIL_1    0.000\n",
       "127 H_18402 112.643 78.099 0.022 H 1 NIL_1    0.000\n",
       "128 H_18181 114.244 82.281 1.370 H 1 NIL_1    0.000\n",
       "129 H_18182 114.334 82.808 -0.319 H 1 NIL_1    0.000\n",
       "130 H_2188 123.279 71.892 -1.420 H 1 NIL_1    0.000\n",
       "131 H_2196 123.305 75.968 -0.439 H 1 NIL_1    0.000\n",
       "132 H_18761 117.318 78.704 -2.038 H 1 NIL_1    0.000\n",
       "133 H_18762 116.774 79.723 -3.367 H 1 NIL_1    0.000\n",
       "134 HP 113.245 80.854 -1.106 H 1 NIL_1    0.000\n",
       "135 H_18271 108.587 75.835 1.405 H 1 NIL_1    0.000\n",
       "136 H_18272 107.982 75.545 -0.237 H 1 NIL_1    0.000\n",
       "137 H_18711 115.179 80.866 -1.757 H 1 NIL_1    0.000\n",
       "138 H_18712 114.738 79.267 -2.345 H 1 NIL_1    0.000\n",
       "139 H_18641 121.831 75.040 -2.235 H 1 NIL_1    0.000\n",
       "140 H_18642 121.653 73.305 -2.363 H 1 NIL_1    0.000\n",
       "141 H_18751 112.019 68.627 -0.671 H 1 NIL_1    0.000\n",
       "142 H_18752 113.426 67.600 -1.073 H 1 NIL_1    0.000\n",
       "143 H_18753 112.734 68.687 -2.312 H 1 NIL_1    0.000\n",
       "144 HP 110.106 74.713 -0.973 H 1 NIL_1    0.000\n",
       "145 H_18251 109.640 73.368 2.607 H 1 NIL_1    0.000\n",
       "146 H_18252 109.558 72.060 1.394 H 1 NIL_1    0.000\n",
       "147 H_18291 115.765 77.847 1.133 H 1 NIL_1    0.000\n",
       "148 H_18292 117.000 78.272 -0.033 H 1 NIL_1    0.000\n",
       "149 H_18731 112.382 71.068 -0.624 H 1 NIL_1    0.000\n",
       "150 H_18732 113.337 71.123 -2.138 H 1 NIL_1    0.000\n",
       "151 H_18131 117.365 75.685 1.257 H 1 NIL_1    0.000\n",
       "152 H_18132 118.250 76.575 -0.016 H 1 NIL_1    0.000\n",
       "153 H_18701 114.449 71.730 0.667 H 1 NIL_1    0.000\n",
       "154 H_18702 115.367 71.652 -0.826 H 1 NIL_1    0.000\n",
       "155 H_18351 112.163 73.503 -1.364 H 1 NIL_1    0.000\n",
       "156 H_18352 112.756 74.878 -0.431 H 1 NIL_1    0.000\n",
       "157 H_18151 116.772 73.024 0.174 H 1 NIL_1    0.000\n",
       "158 H_18152 117.589 72.725 -1.378 H 1 NIL_1    0.000\n",
       "159 HP 116.663 74.705 -2.353 H 1 NIL_1    0.000\n",
       "160 HH 112.661 84.039 2.542 H 1 NIL_1    0.000\n",
       "161 HH 107.106 74.156 2.820 H 1 NIL_1    0.000\n",
       "162 HH 118.841 73.540 1.736 H 1 NIL_1    0.000\n",
       "@<TRIPOS>BOND\n",
       "1 2 1 2 \n",
       "2 3 2 1 \n",
       "3 4 2 1 \n",
       "4 5 3 1 \n",
       "5 6 3 1 \n",
       "6 7 4 1 \n",
       "7 8 4 1 \n",
       "8 8 13 1 \n",
       "9 9 5 1 \n",
       "10 10 6 1 \n",
       "11 10 9 1 \n",
       "12 11 6 1 \n",
       "13 12 7 1 \n",
       "14 14 9 1 \n",
       "15 15 9 1 \n",
       "16 16 11 2 \n",
       "17 17 11 1 \n",
       "18 18 12 2 \n",
       "19 19 12 1 \n",
       "20 20 13 1 \n",
       "21 21 14 1 \n",
       "22 22 14 2 \n",
       "23 23 15 1 \n",
       "24 23 21 1 \n",
       "25 24 17 1 \n",
       "26 25 19 1 \n",
       "27 26 19 1 \n",
       "28 27 20 1 \n",
       "29 28 21 1 \n",
       "30 29 23 2 \n",
       "31 30 24 1 \n",
       "32 31 24 1 \n",
       "33 32 25 1 \n",
       "34 33 26 1 \n",
       "35 34 26 1 \n",
       "36 34 32 1 \n",
       "37 35 28 1 \n",
       "38 36 30 1 \n",
       "39 37 30 2 \n",
       "40 38 31 1 \n",
       "41 39 32 1 \n",
       "42 40 32 1 \n",
       "43 41 33 2 \n",
       "44 42 33 1 \n",
       "45 42 52 1 \n",
       "46 43 35 1 \n",
       "47 43 53 2 \n",
       "48 44 54 1 \n",
       "49 44 35 2 \n",
       "50 45 36 1 \n",
       "51 45 55 1 \n",
       "52 46 56 1 \n",
       "53 46 57 1 \n",
       "54 46 36 1 \n",
       "55 47 38 1 \n",
       "56 47 58 1 \n",
       "57 48 39 1 \n",
       "58 48 59 1 \n",
       "59 49 39 2 \n",
       "60 50 40 1 \n",
       "61 50 48 1 \n",
       "62 50 60 2 \n",
       "63 51 42 1 \n",
       "64 51 57 1 \n",
       "65 56 55 1 \n",
       "66 61 52 1 \n",
       "67 62 53 1 \n",
       "68 62 54 2 \n",
       "69 63 55 1 \n",
       "70 64 55 1 \n",
       "71 65 57 2 \n",
       "72 66 59 1 \n",
       "73 67 61 1 \n",
       "74 68 62 1 \n",
       "75 69 63 1 \n",
       "76 70 63 2 \n",
       "77 71 64 1 \n",
       "78 71 69 1 \n",
       "79 72 66 2 \n",
       "80 73 66 1 \n",
       "81 74 67 1 \n",
       "82 75 68 1 \n",
       "83 76 69 1 \n",
       "84 77 71 2 \n",
       "85 78 72 1 \n",
       "86 79 73 2 \n",
       "87 80 76 1 \n",
       "88 81 79 1 \n",
       "89 81 78 2 \n",
       "90 82 80 2 \n",
       "91 83 80 1 \n",
       "92 84 81 1 \n",
       "93 85 82 1 \n",
       "94 86 83 2 \n",
       "95 87 84 1 \n",
       "96 88 86 1 \n",
       "97 88 85 2 \n",
       "98 89 88 1 \n",
       "99 90 89 1 \n",
       "100 91 90 1 \n",
       "101 92 90 1 \n",
       "102 93 90 1 \n",
       "103 94 87 1 \n",
       "104 95 87 1 \n",
       "105 96 87 1 \n",
       "106 97 86 1 \n",
       "107 98 85 1 \n",
       "108 99 83 1 \n",
       "109 100 82 1 \n",
       "110 101 79 1 \n",
       "111 102 78 1 \n",
       "112 103 76 1 \n",
       "113 104 76 1 \n",
       "114 105 75 1 \n",
       "115 106 75 1 \n",
       "116 107 75 1 \n",
       "117 108 74 1 \n",
       "118 109 74 1 \n",
       "119 110 74 1 \n",
       "120 111 73 1 \n",
       "121 112 72 1 \n",
       "122 113 61 1 \n",
       "123 114 61 1 \n",
       "124 115 59 1 \n",
       "125 116 59 1 \n",
       "126 117 58 1 \n",
       "127 118 58 1 \n",
       "128 119 58 1 \n",
       "129 120 56 1 \n",
       "130 121 56 1 \n",
       "131 122 54 1 \n",
       "132 123 53 1 \n",
       "133 124 52 1 \n",
       "134 125 52 1 \n",
       "135 126 51 1 \n",
       "136 127 51 1 \n",
       "137 128 45 1 \n",
       "138 129 45 1 \n",
       "139 130 44 1 \n",
       "140 131 43 1 \n",
       "141 132 38 1 \n",
       "142 133 38 1 \n",
       "143 134 36 1 \n",
       "144 135 34 1 \n",
       "145 136 34 1 \n",
       "146 137 31 1 \n",
       "147 138 31 1 \n",
       "148 139 28 1 \n",
       "149 140 28 1 \n",
       "150 141 27 1 \n",
       "151 142 27 1 \n",
       "152 143 27 1 \n",
       "153 144 26 1 \n",
       "154 145 25 1 \n",
       "155 146 25 1 \n",
       "156 147 17 1 \n",
       "157 148 17 1 \n",
       "158 149 13 1 \n",
       "159 150 13 1 \n",
       "160 151 10 1 \n",
       "161 152 10 1 \n",
       "162 153 8 1 \n",
       "163 154 8 1 \n",
       "164 155 7 1 \n",
       "165 156 7 1 \n",
       "166 157 5 1 \n",
       "167 158 5 1 \n",
       "168 159 3 1 \n",
       "169 160 64 1 \n",
       "170 161 40 1 \n",
       "171 162 15 1 \n",
       "@<TRIPOS>SUBSTRUCTURE\n",
       "1 NIL_1 1 RESIDUE 1 A NIL 1\n",
       "\n",
       "\n",
       "\""
      ]
     },
     "execution_count": 12,
     "metadata": {},
     "output_type": "execute_result"
    }
   ],
   "source": [
    "(nglv::get-structure-string (make-instance 'nglv::cando-structure :matter *m*))"
   ]
  },
  {
   "cell_type": "code",
   "execution_count": 13,
   "metadata": {},
   "outputs": [
    {
     "name": "stdout",
     "output_type": "stream",
     "text": [
      "Saving matter to /tmp/structure.mol2\n"
     ]
    },
    {
     "name": "stderr",
     "output_type": "stream",
     "text": [
      "SIMPLE-WARNING: \n",
      "What do we do about add_repr_method_shortcut\n",
      "SIMPLE-WARNING: \n",
      "Do something for %update-component-auto-completion\n",
      "SIMPLE-WARNING: \n",
      "Set the Trajectoryplayer\n"
     ]
    }
   ],
   "source": [
    "(nglv::show-aggregate *m*)"
   ]
  },
  {
   "cell_type": "code",
   "execution_count": 14,
   "metadata": {},
   "outputs": [
    {
     "data": {
      "text/plain": [
       "T"
      ]
     },
     "execution_count": 14,
     "metadata": {},
     "output_type": "execute_result"
    }
   ],
   "source": [
    "(nglv::%remote-call *b* \"setSyncCamera\" :target \"Widget\")"
   ]
  },
  {
   "cell_type": "code",
   "execution_count": 15,
   "metadata": {},
   "outputs": [
    {
     "data": {
      "text/plain": [
       "(#<PYTHREAD:REMOTE-CALL-CALLBACK> #<PYTHREAD:REMOTE-CALL-CALLBACK>\n",
       " #<PYTHREAD:REMOTE-CALL-CALLBACK> #<PYTHREAD:REMOTE-CALL-CALLBACK>\n",
       " #<PYTHREAD:REMOTE-CALL-CALLBACK>)"
      ]
     },
     "execution_count": 15,
     "metadata": {},
     "output_type": "execute_result"
    }
   ],
   "source": [
    "(nglv::ngl-displayed-callbacks-before-loaded-reversed *b*)"
   ]
  },
  {
   "cell_type": "code",
   "execution_count": 8,
   "metadata": {},
   "outputs": [
    {
     "name": "stderr",
     "output_type": "stream",
     "text": [
      "SIMPLE-WARNING: \n",
      "Add support for proclaim (TYPE LIST *MAILBOXES*)\n"
     ]
    },
    {
     "data": {
      "text/plain": [
       "#<PROCESS SWANK-MAIN @0xb7a0469>"
      ]
     },
     "execution_count": 8,
     "metadata": {},
     "output_type": "execute_result"
    }
   ],
   "source": [
    "(ext:start-swank)"
   ]
  },
  {
   "cell_type": "code",
   "execution_count": 16,
   "metadata": {},
   "outputs": [
    {
     "data": {
      "text/plain": [
       "NIL"
      ]
     },
     "execution_count": 16,
     "metadata": {},
     "output_type": "execute_result"
    }
   ],
   "source": [
    "(nglv::loaded *b*)"
   ]
  },
  {
   "cell_type": "code",
   "execution_count": 17,
   "metadata": {},
   "outputs": [
    {
     "name": "stderr",
     "output_type": "stream",
     "text": [
      "SIMPLE-PROGRAM-ERROR: \n",
      "Could not find variable A in lexical/global environment\n"
     ]
    },
    {
     "data": {
      "text/plain": [
       "NIL"
      ]
     },
     "execution_count": 17,
     "metadata": {},
     "output_type": "execute_result"
    }
   ],
   "source": [
    "a"
   ]
  },
  {
   "cell_type": "code",
   "execution_count": 19,
   "metadata": {},
   "outputs": [
    {
     "name": "stderr",
     "output_type": "stream",
     "text": [
      "SIMPLE-PROGRAM-ERROR: \n",
      "Could not find variable A in lexical/global environment\n"
     ]
    },
    {
     "data": {
      "text/plain": [
       "NIL"
      ]
     },
     "execution_count": 19,
     "metadata": {},
     "output_type": "execute_result"
    }
   ],
   "source": [
    "(typep a 'nglv::pdbidstructure)"
   ]
  },
  {
   "cell_type": "code",
   "execution_count": null,
   "metadata": {
    "collapsed": true
   },
   "outputs": [],
   "source": []
  },
  {
   "cell_type": "code",
   "execution_count": null,
   "metadata": {
    "collapsed": true
   },
   "outputs": [],
   "source": []
  },
  {
   "cell_type": "code",
   "execution_count": 18,
   "metadata": {},
   "outputs": [
    {
     "data": {
      "text/plain": [
       "(#<The STANDARD-CLASS NGLV::PDBIDSTRUCTURE>\n",
       " #<The STANDARD-CLASS NGLV::STRUCTURE> #<The STANDARD-CLASS STANDARD-OBJECT>\n",
       " #<The BUILT-IN-CLASS T>)"
      ]
     },
     "execution_count": 18,
     "metadata": {},
     "output_type": "execute_result"
    }
   ],
   "source": [
    "(clos:class-precedence-list (find-class 'nglv::pdbidstructure))"
   ]
  },
  {
   "cell_type": "code",
   "execution_count": 19,
   "metadata": {},
   "outputs": [
    {
     "data": {
      "text/plain": [
       "*U*"
      ]
     },
     "execution_count": 19,
     "metadata": {},
     "output_type": "execute_result"
    }
   ],
   "source": [
    "(defparameter *u* \"http://files.rcsb.org/view/4HB1.cif\")"
   ]
  },
  {
   "cell_type": "code",
   "execution_count": 20,
   "metadata": {},
   "outputs": [
    {
     "name": "stderr",
     "output_type": "stream",
     "text": [
      "1An error occurred of type: END-OF-FILE: \n",
      "  #<END-OF-FILE>\n"
     ]
    },
    {
     "data": {
      "text/plain": [
       "NIL"
      ]
     },
     "execution_count": 20,
     "metadata": {},
     "output_type": "execute_result"
    }
   ],
   "source": [
    "(defparameter *r* (trivial-http:http-get *u*))"
   ]
  },
  {
   "cell_type": "code",
   "execution_count": 23,
   "metadata": {},
   "outputs": [
    {
     "name": "stderr",
     "output_type": "stream",
     "text": [
      "1An error occurred of type: UNBOUND-VARIABLE: \n",
      "  #<UNBOUND-VARIABLE>\n"
     ]
    },
    {
     "data": {
      "text/plain": [
       "NIL"
      ]
     },
     "execution_count": 23,
     "metadata": {},
     "output_type": "execute_result"
    }
   ],
   "source": [
    "*r*"
   ]
  },
  {
   "cell_type": "code",
   "execution_count": 6,
   "metadata": {},
   "outputs": [
    {
     "data": {
      "text/plain": [
       "*S*"
      ]
     },
     "execution_count": 6,
     "metadata": {},
     "output_type": "execute_result"
    }
   ],
   "source": [
    "(defparameter *s* (third *r*))"
   ]
  },
  {
   "cell_type": "code",
   "execution_count": 7,
   "metadata": {},
   "outputs": [
    {
     "data": {
      "text/plain": [
       "#<TWO-WAY-STREAM >"
      ]
     },
     "execution_count": 7,
     "metadata": {},
     "output_type": "execute_result"
    }
   ],
   "source": [
    "*s*"
   ]
  },
  {
   "cell_type": "code",
   "execution_count": 8,
   "metadata": {},
   "outputs": [
    {
     "data": {
      "text/plain": [
       "*ST*"
      ]
     },
     "execution_count": 8,
     "metadata": {},
     "output_type": "execute_result"
    }
   ],
   "source": [
    "(defparameter *st* (make-string-output-stream))"
   ]
  },
  {
   "cell_type": "code",
   "execution_count": 9,
   "metadata": {},
   "outputs": [
    {
     "data": {
      "text/plain": [
       "68925"
      ]
     },
     "execution_count": 9,
     "metadata": {},
     "output_type": "execute_result"
    }
   ],
   "source": [
    "(trivial-http::copy-stream *s* *st*)"
   ]
  },
  {
   "cell_type": "code",
   "execution_count": 6,
   "metadata": {},
   "outputs": [
    {
     "data": {
      "text/plain": [
       "\"shit\""
      ]
     },
     "execution_count": 6,
     "metadata": {},
     "output_type": "execute_result"
    }
   ],
   "source": [
    "(cljw::assoc-value \"type\" '((\"data\" . :True) (\"type\" .\"shit\")))"
   ]
  },
  {
   "cell_type": "code",
   "execution_count": 40,
   "metadata": {},
   "outputs": [
    {
     "data": {
      "text/plain": [
       "BB"
      ]
     },
     "execution_count": 40,
     "metadata": {},
     "output_type": "execute_result"
    }
   ],
   "source": [
    "(defparameter bb (make-instance 'cljw::button :button_style \"warning\" :tooltip \"Click me\" :icon \"eraser\" :disabled :false))"
   ]
  },
  {
   "cell_type": "code",
   "execution_count": 41,
   "metadata": {
    "collapsed": true
   },
   "outputs": [],
   "source": [
    "bb"
   ]
  },
  {
   "cell_type": "code",
   "execution_count": 43,
   "metadata": {},
   "outputs": [
    {
     "data": {
      "text/plain": [
       "U"
      ]
     },
     "execution_count": 43,
     "metadata": {},
     "output_type": "execute_result"
    }
   ],
   "source": [
    "(defparameter u (make-instance 'cljw::toggle-buttons\n",
    ":options '((\"Slow\" . \"s\") (\"Regular\" . \"r\") (\"Fast\" . \"f\"))                                                                :value \"f\"\n",
    ":description \"Speed:\"\n",
    ":disabled :false  :button_style \"warning\"\n",
    ":tooltips (vector \"Slow\" \"Regular\" \"Fast\")\n",
    ":icons (vector \"check\" \"bullseye\" \"eraser\")))\n"
   ]
  },
  {
   "cell_type": "code",
   "execution_count": 44,
   "metadata": {
    "collapsed": true
   },
   "outputs": [],
   "source": [
    "u"
   ]
  },
  {
   "cell_type": "code",
   "execution_count": null,
   "metadata": {
    "collapsed": true
   },
   "outputs": [],
   "source": []
  }
 ],
 "metadata": {
  "kernelspec": {
   "display_name": "Cando",
   "language": "lisp",
   "name": "lisp"
  },
  "language_info": {
   "codemirror_mode": "text/x-common-lisp",
   "mimetype": "text/x-common-lisp",
   "name": "common-lisp",
   "pygments_lexer": "common-lisp",
   "version": "X3J13"
  }
 },
 "nbformat": 4,
 "nbformat_minor": 2
}
