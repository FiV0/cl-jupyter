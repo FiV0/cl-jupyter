{
 "cells": [
  {
   "cell_type": "code",
   "execution_count": 7,
   "metadata": {},
   "outputs": [
    {
     "name": "stderr",
     "output_type": "stream",
     "text": [
      "SIMPLE-WARNING: \n",
      "Add support for proclaim (TYPE LIST *MAILBOXES*)\n"
     ]
    },
    {
     "data": {
      "text/plain": [
       "#<PROCESS SWANK-MAIN @0xceeb789>"
      ]
     },
     "execution_count": 7,
     "metadata": {},
     "output_type": "execute_result"
    }
   ],
   "source": [
    "(ext:start-swank)"
   ]
  },
  {
   "cell_type": "code",
   "execution_count": 1,
   "metadata": {},
   "outputs": [
    {
     "data": {
      "text/plain": [
       "T"
      ]
     },
     "execution_count": 1,
     "metadata": {},
     "output_type": "execute_result"
    }
   ],
   "source": [
    "(asdf:load-asd \"/home/app/quicklisp/local-projects/cl-jupyter/nglview/nglview.asd\")"
   ]
  },
  {
   "cell_type": "code",
   "execution_count": 2,
   "metadata": {
    "scrolled": true
   },
   "outputs": [
    {
     "data": {
      "text/plain": [
       "T"
      ]
     },
     "execution_count": 2,
     "metadata": {},
     "output_type": "execute_result"
    }
   ],
   "source": [
    "(asdf:load-system :nglview)"
   ]
  },
  {
   "cell_type": "code",
   "execution_count": 19,
   "metadata": {},
   "outputs": [
    {
     "name": "stderr",
     "output_type": "stream",
     "text": [
      "SIMPLE-WARNING: \n",
      "What do we do about add_repr_method_shortcut\n",
      "SIMPLE-WARNING: \n",
      "Do something for %update-component-auto-completion\n",
      "SIMPLE-WARNING: \n",
      "how do we get URLs to work?!\n",
      "SIMPLE-WARNING: \n",
      "How do I set %place-proxy with a PlaceProxy\n",
      "SIMPLE-WARNING: \n",
      "How do I set the player\n"
     ]
    },
    {
     "data": {
      "text/plain": [
       "*P*"
      ]
     },
     "execution_count": 3,
     "metadata": {},
     "output_type": "execute_result"
    }
   ],
   "source": [
    "(defparameter *p* \"/home/app/work/home/Desktop/rsrs.mol2\")"
   ]
  },
  {
   "cell_type": "code",
   "execution_count": 4,
   "metadata": {},
   "outputs": [
    {
     "data": {
      "text/plain": [
       "#P\"/home/app/work/home/Desktop/rsrs.mol2\""
      ]
     },
     "execution_count": 4,
     "metadata": {},
     "output_type": "execute_result"
    }
   ],
   "source": [
    "(probe-file \"/home/app/work/home/Desktop/rsrs.mol2\")"
   ]
  },
  {
   "cell_type": "code",
   "execution_count": 3,
   "metadata": {},
   "outputs": [
    {
     "name": "stderr",
     "output_type": "stream",
     "text": [
      "SIMPLE-WARNING: \n",
      "What do we do about add_repr_method_shortcut\n",
      "SIMPLE-WARNING: \n",
      "Do something for %update-component-auto-completion\n",
      "SIMPLE-WARNING: \n",
      "Set the Trajectoryplayer\n"
     ]
    },
    {
     "data": {
      "text/plain": [
       "*B*"
      ]
     },
     "execution_count": 19,
     "metadata": {},
     "output_type": "execute_result"
    }
   ],
   "source": [
    "(defparameter *b* (nglv::show-structure-file \"/home/app/work/home/Desktop/test.mol2\"))"
   ]
  },
  {
   "cell_type": "code",
   "execution_count": 20,
   "metadata": {},
   "outputs": [],
   "source": [
    "*b*"
   ]
  },
  {
   "cell_type": "code",
   "execution_count": 6,
>>>>>>> master
   "metadata": {},
   "outputs": [
    {
     "name": "stderr",
     "output_type": "stream",
     "text": [
      "SIMPLE-WARNING: \n",
      "What do we do about add_repr_method_shortcut\n",
      "SIMPLE-WARNING: \n",
      "Do something for %update-component-auto-completion\n",
      "SIMPLE-WARNING: \n",
      "Set the Trajectoryplayer\n"
     ]
    },
    {
     "data": {
      "text/plain": [
       "*B*"
      ]
     },
     "execution_count": 6,
     "metadata": {},
     "output_type": "execute_result"
    }
   ],
   "source": [
    "(defparameter *b* (nglv::show-structure-file *p*))"
   ]
  },
  {
   "cell_type": "code",
   "execution_count": 7,
   "metadata": {
    "collapsed": true
   },
   "outputs": [],
   "source": [
    "*b*"
   ]
  },
  {
   "cell_type": "code",
   "execution_count": 13,
   "metadata": {},
   "outputs": [
    {
     "data": {
      "text/plain": [
       "T"
      ]
     },
     "execution_count": 13,
     "metadata": {},
     "output_type": "execute_result"
    }
   ],
   "source": [
    "(nglv::%remote-call *b* \"setSyncCamera\" :target \"Widget\")"
   ]
  },
  {
   "cell_type": "code",
   "execution_count": 5,
   "metadata": {},
   "outputs": [
    {
     "data": {
      "text/plain": [
       "*M*"
      ]
     },
     "execution_count": 5,
     "metadata": {},
     "output_type": "execute_result"
    }
   ],
   "source": [
    "(defparameter *m* (cando:load-mol2 \"/home/app/work/home/cando/jd-macrocycles/synthesized/G_182/G_182.mol2\"))"
   ]
  },
  {
   "cell_type": "code",
   "execution_count": 10,
   "metadata": {},
   "outputs": [
    {
     "name": "stdout",
     "output_type": "stream",
     "text": [
      "Saving matter to /home/app/work/home/structure.mol2\n"
     ]
    },
    {
     "data": {
      "text/plain": [
       "\"@<TRIPOS>MOLECULE\n",
       "NIL\n",
       "162 171 1 0 0\n",
       "POLYMER\n",
       "CHARGES\n",
       "\n",
       "\n",
       "@<TRIPOS>ATOM\n",
       "1 O 111.164 77.1127 1.26521 O.2 1 NIL_1    0.000\n",
       "2 C_1843 110.525 76.729 0.302 C.2 1 NIL_1    0.000\n",
       "3 AP 109.998 75.298 0.247 ANY 1 NIL_1    0.000\n",
       "4 N 110.280 77.559 -0.753 N.am 1 NIL_1    0.000\n",
       "5 C_1827 108.495 75.223 0.583 C.3 1 NIL_1    0.000\n",
       "6 N 110.682 74.346 1.160 N.am 1 NIL_1    0.000\n",
       "7 C_1840 111.052 78.806 -0.935 C.3 1 NIL_1    0.000\n",
       "8 C_1872 109.305 77.327 -1.841 C.3 1 NIL_1    0.000\n",
       "9 AQ 108.349 73.803 1.130 ANY 1 NIL_1    0.000\n",
       "10 C_1825 109.657 73.598 1.909 C.3 1 NIL_1    0.000\n",
       "11 C_1844 112.017 74.080 1.235 C.2 1 NIL_1    0.000\n",
       "12 C_1841 110.794 79.857 0.136 C.2 1 NIL_1    0.000\n",
       "13 C_1879 107.961 78.026 -1.559 C.3 1 NIL_1    0.000\n",
       "14 C_1846 108.176 72.810 0.000 C.2 1 NIL_1    0.000\n",
       "15 NH 107.117 73.548 1.859 N.am 1 NIL_1    0.000\n",
       "16 O 112.461 73.401 2.140 O.2 1 NIL_1    0.000\n",
       "17 C_1835 112.910 74.683 0.150 C.3 1 NIL_1    0.000\n",
       "18 O 109.720 79.921 0.704 O.2 1 NIL_1    0.000\n",
       "19 N 111.777 80.760 0.402 N.am 1 NIL_1    0.000\n",
       "20 O 107.044 77.718 -2.629 O.3 1 NIL_1    0.000\n",
       "21 N 106.973 72.206 0.144 N.am 1 NIL_1    0.000\n",
       "22 O 108.962 72.599 -0.905 O.2 1 NIL_1    0.000\n",
       "23 C_1848 106.327 72.641 1.258 C.2 1 NIL_1    0.000\n",
       "24 N 114.176 73.997 -0.214 N.am 1 NIL_1    0.000\n",
       "25 C_1816 111.562 81.958 1.225 C.3 1 NIL_1    0.000\n",
       "26 CP 113.172 80.772 -0.108 C.3 1 NIL_1    0.000\n",
       "27 C_1881 105.728 78.293 -2.479 C.3 1 NIL_1    0.000\n",
       "28 C_1866 106.439 71.286 -0.882 C.3 1 NIL_1    0.000\n",
       "29 O 105.233 72.302 1.662 O.2 1 NIL_1    0.000\n",
       "30 C_1833 114.951 74.598 -1.158 C.2 1 NIL_1    0.000\n",
       "31 C_1870 114.051 72.517 -0.285 C.3 1 NIL_1    0.000\n",
       "32 CQ 112.626 82.960 0.767 C.3 1 NIL_1    0.000\n",
       "33 C_1838 113.969 79.532 0.298 C.2 1 NIL_1    0.000\n",
       "34 C_1818 113.827 82.067 0.428 C.3 1 NIL_1    0.000\n",
       "35 C_1867 105.202 70.464 -0.579 C.2 1 NIL_1    0.000\n",
       "36 BP 116.423 74.894 -0.861 B 1 NIL_1    0.000\n",
       "37 O 114.462 74.955 -2.213 O.2 1 NIL_1    0.000\n",
       "38 C_1873 112.888 71.999 -1.162 C.3 1 NIL_1    0.000\n",
       "39 C_1854 112.121 83.744 -0.423 C.2 1 NIL_1    0.000\n",
       "40 NH 112.870 84.059 1.685 N.am 1 NIL_1    0.000\n",
       "41 O 113.706 78.948 1.333 O.2 1 NIL_1    0.000\n",
       "42 N 114.929 79.050 -0.544 N.am 1 NIL_1    0.000\n",
       "43 C_2172 105.302 69.292 0.051 C.2 1 NIL_1    0.000\n",
       "44 C_2180 103.990 70.897 -0.942 C.2 1 NIL_1    0.000\n",
       "45 C_1815 117.260 73.629 -0.587 C.3 1 NIL_1    0.000\n",
       "46 N 116.734 75.842 0.237 N.am 1 NIL_1    0.000\n",
       "47 O 113.058 70.577 -1.350 O.3 1 NIL_1    0.000\n",
       "48 N 112.062 85.051 -0.077 N.am 1 NIL_1    0.000\n",
       "49 O 111.792 83.287 -1.501 O.2 1 NIL_1    0.000\n",
       "50 C_1856 112.501 85.256 1.191 C.2 1 NIL_1    0.000\n",
       "51 C_1829 115.213 77.600 -0.579 C.3 1 NIL_1    0.000\n",
       "52 C_1871 115.443 79.724 -1.760 C.3 1 NIL_1    0.000\n",
       "53 C_2174 104.213 68.571 0.320 C.2 1 NIL_1    0.000\n",
       "54 C_2178 102.899 70.178 -0.673 C.2 1 NIL_1    0.000\n",
       "55 BQ 118.486 74.169 0.154 B 1 NIL_1    0.000\n",
       "56 C_1813 117.921 75.349 0.961 C.3 1 NIL_1    0.000\n",
       "57 C_1830 116.221 77.088 0.437 C.2 1 NIL_1    0.000\n",
       "58 C_1875 112.089 69.955 -2.221 C.3 1 NIL_1    0.000\n",
       "59 C_1868 111.460 86.070 -0.957 C.3 1 NIL_1    0.000\n",
       "60 O 112.549 86.308 1.797 O.2 1 NIL_1    0.000\n",
       "61 C_1876 116.982 79.636 -1.915 C.3 1 NIL_1    0.000\n",
       "62 C_2176 103.000 69.004 -0.032 C.2 1 NIL_1    0.000\n",
       "63 C_1850 119.586 74.569 -0.807 C.2 1 NIL_1    0.000\n",
       "64 NH 119.206 73.177 0.932 N.am 1 NIL_1    0.000\n",
       "65 O 116.582 77.768 1.380 O.2 1 NIL_1    0.000\n",
       "66 C_1869 111.966 87.494 -0.856 C.2 1 NIL_1    0.000\n",
       "67 O 117.346 79.895 -3.292 O.3 1 NIL_1    0.000\n",
       "68 O 101.929 68.211 0.297 O.3 1 NIL_1    0.000\n",
       "69 N 120.672 73.798 -0.554 N.am 1 NIL_1    0.000\n",
       "70 O 119.509 75.419 -1.673 O.2 1 NIL_1    0.000\n",
       "71 C_1852 120.455 72.958 0.489 C.2 1 NIL_1    0.000\n",
       "72 C_2204 111.206 88.452 -0.317 C.2 1 NIL_1    0.000\n",
       "73 C_2212 113.176 87.816 -1.320 C.2 1 NIL_1    0.000\n",
       "74 C_1878 117.260 78.766 -4.194 C.3 1 NIL_1    0.000\n",
       "75 C_2273 100.581 68.718 0.137 C.3 1 NIL_1    0.000\n",
       "76 C_1864 121.871 73.766 -1.418 C.3 1 NIL_1    0.000\n",
       "77 O 121.226 72.140 0.951 O.2 1 NIL_1    0.000\n",
       "78 C_2206 111.644 89.710 -0.246 C.2 1 NIL_1    0.000\n",
       "79 C_2210 113.616 89.073 -1.252 C.2 1 NIL_1    0.000\n",
       "80 C_1865 123.220 73.810 -0.723 C.2 1 NIL_1    0.000\n",
       "81 C_2208 112.857 90.035 -0.720 C.2 1 NIL_1    0.000\n",
       "82 C_2196 123.926 72.691 -0.534 C.2 1 NIL_1    0.000\n",
       "83 C_2188 123.732 74.969 -0.300 C.2 1 NIL_1    0.000\n",
       "84 O 113.374 91.305 -0.693 O.3 1 NIL_1    0.000\n",
       "85 C_2194 125.113 72.725 0.073 C.2 1 NIL_1    0.000\n",
       "86 C_2190 124.921 75.008 0.303 C.2 1 NIL_1    0.000\n",
       "87 C_2271 112.499 92.417 -0.382 C.3 1 NIL_1    0.000\n",
       "88 C_2192 125.625 73.889 0.493 C.2 1 NIL_1    0.000\n",
       "89 O 126.832 73.978 1.136 O.3 1 NIL_1    0.000\n",
       "90 C_2269 127.930 73.193 0.609 C.3 1 NIL_1    0.000\n",
       "91 H_22691 128.089 73.453 -0.441 H 1 NIL_1    0.000\n",
       "92 H_22692 127.714 72.126 0.705 H 1 NIL_1    0.000\n",
       "93 H_22693 128.831 73.424 1.183 H 1 NIL_1    0.000\n",
       "94 H_22711 113.063 93.346 -0.490 H 1 NIL_1    0.000\n",
       "95 H_22712 112.145 92.326 0.648 H 1 NIL_1    0.000\n",
       "96 H_22713 111.653 92.420 -1.075 H 1 NIL_1    0.000\n",
       "97 H_2190 125.321 75.963 0.638 H 1 NIL_1    0.000\n",
       "98 H_2194 125.649 71.792 0.223 H 1 NIL_1    0.000\n",
       "99 H_2188 123.179 75.894 -0.447 H 1 NIL_1    0.000\n",
       "100 H_2196 123.532 71.735 -0.872 H 1 NIL_1    0.000\n",
       "101 H_2210 114.602 89.313 -1.642 H 1 NIL_1    0.000\n",
       "102 H_2206 110.990 90.453 0.200 H 1 NIL_1    0.000\n",
       "103 H_18641 121.826 74.601 -2.122 H 1 NIL_1    0.000\n",
       "104 H_18642 121.809 72.852 -2.016 H 1 NIL_1    0.000\n",
       "105 H_22731 99.890 68.018 0.613 H 1 NIL_1    0.000\n",
       "106 H_22732 100.342 68.799 -0.926 H 1 NIL_1    0.000\n",
       "107 H_22733 100.496 69.694 0.621 H 1 NIL_1    0.000\n",
       "108 H_18781 116.246 78.358 -4.192 H 1 NIL_1    0.000\n",
       "109 H_18782 117.970 77.993 -3.878 H 1 NIL_1    0.000\n",
       "110 H_18783 117.520 79.098 -5.202 H 1 NIL_1    0.000\n",
       "111 H_2212 113.808 87.051 -1.765 H 1 NIL_1    0.000\n",
       "112 H_2204 110.217 88.213 0.067 H 1 NIL_1    0.000\n",
       "113 H_18761 117.456 80.387 -1.277 H 1 NIL_1    0.000\n",
       "114 H_18762 117.373 78.652 -1.642 H 1 NIL_1    0.000\n",
       "115 H_18681 110.382 86.058 -0.773 H 1 NIL_1    0.000\n",
       "116 H_18682 111.606 85.747 -1.992 H 1 NIL_1    0.000\n",
       "117 H_18751 111.086 70.113 -1.817 H 1 NIL_1    0.000\n",
       "118 H_18752 112.297 68.882 -2.273 H 1 NIL_1    0.000\n",
       "119 H_18753 112.162 70.391 -3.222 H 1 NIL_1    0.000\n",
       "120 H_18131 117.598 75.003 1.946 H 1 NIL_1    0.000\n",
       "121 H_18132 118.672 76.138 1.072 H 1 NIL_1    0.000\n",
       "122 H_2178 101.935 70.572 -0.986 H 1 NIL_1    0.000\n",
       "123 H_2174 104.319 67.620 0.838 H 1 NIL_1    0.000\n",
       "124 H_18711 115.174 80.781 -1.754 H 1 NIL_1    0.000\n",
       "125 H_18712 114.957 79.264 -2.623 H 1 NIL_1    0.000\n",
       "126 H_18291 115.576 77.319 -1.570 H 1 NIL_1    0.000\n",
       "127 H_18292 114.278 77.071 -0.408 H 1 NIL_1    0.000\n",
       "128 H_18151 116.730 72.954 0.087 H 1 NIL_1    0.000\n",
       "129 H_18152 117.513 73.094 -1.504 H 1 NIL_1    0.000\n",
       "130 H_2180 103.885 71.848 -1.459 H 1 NIL_1    0.000\n",
       "131 H_2172 106.278 68.917 0.352 H 1 NIL_1    0.000\n",
       "132 H_18731 111.918 72.179 -0.688 H 1 NIL_1    0.000\n",
       "133 H_18732 112.914 72.484 -2.140 H 1 NIL_1    0.000\n",
       "134 HP 116.814 75.352 -1.775 H 1 NIL_1    0.000\n",
       "135 H_18181 114.383 81.851 1.345 H 1 NIL_1    0.000\n",
       "136 H_18182 114.504 82.527 -0.295 H 1 NIL_1    0.000\n",
       "137 H_18701 113.962 72.111 0.725 H 1 NIL_1    0.000\n",
       "138 H_18702 114.969 72.107 -0.710 H 1 NIL_1    0.000\n",
       "139 H_18661 107.244 70.597 -1.153 H 1 NIL_1    0.000\n",
       "140 H_18662 106.239 71.893 -1.770 H 1 NIL_1    0.000\n",
       "141 H_18811 105.274 77.927 -1.553 H 1 NIL_1    0.000\n",
       "142 H_18812 105.114 77.992 -3.330 H 1 NIL_1    0.000\n",
       "143 H_18813 105.806 79.383 -2.449 H 1 NIL_1    0.000\n",
       "144 HP 113.113 80.816 -1.199 H 1 NIL_1    0.000\n",
       "145 H_18161 111.711 81.693 2.275 H 1 NIL_1    0.000\n",
       "146 H_18162 110.555 82.361 1.084 H 1 NIL_1    0.000\n",
       "147 H_18351 112.316 74.795 -0.763 H 1 NIL_1    0.000\n",
       "148 H_18352 113.164 75.675 0.520 H 1 NIL_1    0.000\n",
       "149 H_18791 107.538 77.668 -0.616 H 1 NIL_1    0.000\n",
       "150 H_18792 108.096 79.110 -1.506 H 1 NIL_1    0.000\n",
       "151 H_18251 109.573 74.034 2.909 H 1 NIL_1    0.000\n",
       "152 H_18252 109.912 72.537 1.987 H 1 NIL_1    0.000\n",
       "153 H_18721 109.132 76.260 -1.982 H 1 NIL_1    0.000\n",
       "154 H_18722 109.713 77.704 -2.783 H 1 NIL_1    0.000\n",
       "155 H_18401 110.823 79.275 -1.895 H 1 NIL_1    0.000\n",
       "156 H_18402 112.103 78.525 -0.946 H 1 NIL_1    0.000\n",
       "157 H_18271 108.241 75.949 1.360 H 1 NIL_1    0.000\n",
       "158 H_18272 107.858 75.393 -0.286 H 1 NIL_1    0.000\n",
       "159 HP 110.155 74.927 -0.769 H 1 NIL_1    0.000\n",
       "160 HH 118.783 72.672 1.697 H 1 NIL_1    0.000\n",
       "161 HH 113.217 83.921 2.623 H 1 NIL_1    0.000\n",
       "162 HH 106.858 74.061 2.687 H 1 NIL_1    0.000\n",
       "@<TRIPOS>BOND\n",
       "1 2 1 2 \n",
       "2 3 2 1 \n",
       "3 4 2 1 \n",
       "4 4 7 1 \n",
       "5 4 8 1 \n",
       "6 5 9 1 \n",
       "7 5 3 1 \n",
       "8 6 10 1 \n",
       "9 6 3 1 \n",
       "10 6 11 1 \n",
       "11 10 9 1 \n",
       "12 12 7 1 \n",
       "13 13 8 1 \n",
       "14 14 9 1 \n",
       "15 15 9 1 \n",
       "16 16 11 2 \n",
       "17 17 11 1 \n",
       "18 18 12 2 \n",
       "19 19 12 1 \n",
       "20 20 13 1 \n",
       "21 21 14 1 \n",
       "22 22 14 2 \n",
       "23 23 15 1 \n",
       "24 23 21 1 \n",
       "25 24 17 1 \n",
       "26 25 19 1 \n",
       "27 26 19 1 \n",
       "28 27 20 1 \n",
       "29 28 21 1 \n",
       "30 29 23 2 \n",
       "31 30 24 1 \n",
       "32 31 24 1 \n",
       "33 32 25 1 \n",
       "34 33 26 1 \n",
       "35 34 32 1 \n",
       "36 34 26 1 \n",
       "37 35 28 1 \n",
       "38 36 30 1 \n",
       "39 37 30 2 \n",
       "40 38 31 1 \n",
       "41 39 32 1 \n",
       "42 40 32 1 \n",
       "43 41 33 2 \n",
       "44 42 33 1 \n",
       "45 43 35 2 \n",
       "46 44 35 1 \n",
       "47 45 36 1 \n",
       "48 46 36 1 \n",
       "49 47 38 1 \n",
       "50 48 39 1 \n",
       "51 49 39 2 \n",
       "52 50 40 1 \n",
       "53 50 48 1 \n",
       "54 51 42 1 \n",
       "55 52 42 1 \n",
       "56 53 43 1 \n",
       "57 54 44 2 \n",
       "58 55 45 1 \n",
       "59 56 46 1 \n",
       "60 56 55 1 \n",
       "61 57 51 1 \n",
       "62 57 46 1 \n",
       "63 58 47 1 \n",
       "64 59 48 1 \n",
       "65 60 50 2 \n",
       "66 61 52 1 \n",
       "67 62 54 1 \n",
       "68 62 53 2 \n",
       "69 63 55 1 \n",
       "70 64 55 1 \n",
       "71 65 57 2 \n",
       "72 66 59 1 \n",
       "73 67 61 1 \n",
       "74 68 62 1 \n",
       "75 69 63 1 \n",
       "76 70 63 2 \n",
       "77 71 64 1 \n",
       "78 71 69 1 \n",
       "79 72 66 2 \n",
       "80 73 66 1 \n",
       "81 74 67 1 \n",
       "82 75 68 1 \n",
       "83 76 69 1 \n",
       "84 77 71 2 \n",
       "85 78 72 1 \n",
       "86 79 73 2 \n",
       "87 80 76 1 \n",
       "88 81 79 1 \n",
       "89 81 78 2 \n",
       "90 82 80 1 \n",
       "91 83 80 2 \n",
       "92 84 81 1 \n",
       "93 85 82 2 \n",
       "94 86 83 1 \n",
       "95 87 84 1 \n",
       "96 88 85 1 \n",
       "97 88 86 2 \n",
       "98 89 88 1 \n",
       "99 90 89 1 \n",
       "100 91 90 1 \n",
       "101 92 90 1 \n",
       "102 93 90 1 \n",
       "103 94 87 1 \n",
       "104 95 87 1 \n",
       "105 96 87 1 \n",
       "106 97 86 1 \n",
       "107 98 85 1 \n",
       "108 99 83 1 \n",
       "109 100 82 1 \n",
       "110 101 79 1 \n",
       "111 102 78 1 \n",
       "112 103 76 1 \n",
       "113 104 76 1 \n",
       "114 105 75 1 \n",
       "115 106 75 1 \n",
       "116 107 75 1 \n",
       "117 108 74 1 \n",
       "118 109 74 1 \n",
       "119 110 74 1 \n",
       "120 111 73 1 \n",
       "121 112 72 1 \n",
       "122 113 61 1 \n",
       "123 114 61 1 \n",
       "124 115 59 1 \n",
       "125 116 59 1 \n",
       "126 117 58 1 \n",
       "127 118 58 1 \n",
       "128 119 58 1 \n",
       "129 120 56 1 \n",
       "130 121 56 1 \n",
       "131 122 54 1 \n",
       "132 123 53 1 \n",
       "133 124 52 1 \n",
       "134 125 52 1 \n",
       "135 126 51 1 \n",
       "136 127 51 1 \n",
       "137 128 45 1 \n",
       "138 129 45 1 \n",
       "139 130 44 1 \n",
       "140 131 43 1 \n",
       "141 132 38 1 \n",
       "142 133 38 1 \n",
       "143 134 36 1 \n",
       "144 135 34 1 \n",
       "145 136 34 1 \n",
       "146 137 31 1 \n",
       "147 138 31 1 \n",
       "148 139 28 1 \n",
       "149 140 28 1 \n",
       "150 141 27 1 \n",
       "151 142 27 1 \n",
       "152 143 27 1 \n",
       "153 144 26 1 \n",
       "154 145 25 1 \n",
       "155 146 25 1 \n",
       "156 147 17 1 \n",
       "157 148 17 1 \n",
       "158 149 13 1 \n",
       "159 150 13 1 \n",
       "160 151 10 1 \n",
       "161 152 10 1 \n",
       "162 153 8 1 \n",
       "163 154 8 1 \n",
       "164 155 7 1 \n",
       "165 156 7 1 \n",
       "166 157 5 1 \n",
       "167 158 5 1 \n",
       "168 159 3 1 \n",
       "169 160 64 1 \n",
       "170 161 40 1 \n",
       "171 162 15 1 \n",
       "@<TRIPOS>SUBSTRUCTURE\n",
       "1 NIL_1 1 RESIDUE 1 A NIL 1\n",
       "\n",
       "\n",
       "\""
      ]
     },
     "execution_count": 10,
     "metadata": {},
     "output_type": "execute_result"
    }
   ],
   "source": [
    "(nglv::get-structure-string (make-instance 'nglv::cando-structure :matter *m*))"
   ]
  },
  {
   "cell_type": "code",
   "execution_count": 12,
   "metadata": {},
   "outputs": [
    {
     "name": "stdout",
     "output_type": "stream",
     "text": [
      "Saving matter to /home/app/work/home/structure.mol2\n"
     ]
    },
    {
     "name": "stderr",
     "output_type": "stream",
     "text": [
      "SIMPLE-WARNING: \n",
      "What do we do about add_repr_method_shortcut\n",
      "SIMPLE-WARNING: \n",
      "Do something for %update-component-auto-completion\n",
      "SIMPLE-WARNING: \n",
      "Set the Trajectoryplayer\n"
     ]
    }
   ],
   "source": [
    "(nglv::show-aggregate *m*)"
   ]
  },
  {
   "cell_type": "code",
   "execution_count": 18,
   "metadata": {},
   "outputs": [
    {
     "data": {
      "text/plain": [
       "T"
      ]
     },
     "execution_count": 18,
     "metadata": {},
     "output_type": "execute_result"
    }
   ],
   "source": [
    "(nglv::%remote-call *b* \"setSyncCamera\" :target \"Widget\")"
   ]
  },
  {
   "cell_type": "code",
   "execution_count": 6,
   "metadata": {},
   "outputs": [
    {
     "data": {
      "text/plain": [
       "((#<CLOSURE-WITH-SLOTS@0xe7de998  LAMBDA :ftype :FUNCTION lambda-list: NIL :fptr 0x7fd1ec33ce30>\n",
       "  . \"setSelector\")\n",
       " (#<CLOSURE-WITH-SLOTS@0x103b3ab8  LAMBDA :ftype :FUNCTION lambda-list: NIL :fptr 0x7fd1ec33ce30>\n",
       "  . \"setUnSyncCamera\")\n",
       " (#<CLOSURE-WITH-SLOTS@0xdd6bf38  LAMBDA :ftype :FUNCTION lambda-list: NIL :fptr 0x7fd1ec33ce30>\n",
       "  . \"centerView\"))"
      ]
     },
     "execution_count": 6,
     "metadata": {},
     "output_type": "execute_result"
    }
   ],
   "source": [
    "(nglv::ngl-displayed-callbacks-before-loaded-reversed *b*)"
   ]
  },
  {
   "cell_type": "code",
   "execution_count": 8,
   "metadata": {},
   "outputs": [
    {
     "name": "stderr",
     "output_type": "stream",
     "text": [
      "SIMPLE-WARNING: \n",
      "Add support for proclaim (TYPE LIST *MAILBOXES*)\n"
     ]
    },
    {
     "data": {
      "text/plain": [
       "#<PROCESS SWANK-MAIN @0xb7a0469>"
      ]
     },
     "execution_count": 8,
     "metadata": {},
     "output_type": "execute_result"
    }
   ],
   "source": [
    "(ext:start-swank)"
   ]
  },
  {
   "cell_type": "code",
   "execution_count": 10,
   "metadata": {},
   "outputs": [
    {
     "data": {
      "text/plain": [
       "T"
      ]
     },
     "execution_count": 10,
     "metadata": {},
     "output_type": "execute_result"
    }
   ],
   "source": [
    "(nglv::loaded *b*)"
   ]
  },
  {
   "cell_type": "code",
   "execution_count": 8,
   "metadata": {},
   "outputs": [
    {
     "data": {
      "text/plain": [
       "#<NGLV::PDBIDSTRUCTURE>"
      ]
     },
     "execution_count": 8,
     "metadata": {},
     "output_type": "execute_result"
    }
   ],
   "source": [
    "a"
   ]
  },
  {
   "cell_type": "code",
   "execution_count": 10,
   "metadata": {},
   "outputs": [
    {
     "data": {
      "text/plain": [
       "T"
      ]
     },
     "execution_count": 10,
     "metadata": {},
     "output_type": "execute_result"
    }
   ],
   "source": [
    "(typep a 'nglv::pdbidstructure)"
   ]
  },
  {
   "cell_type": "code",
   "execution_count": null,
   "metadata": {
    "collapsed": true
   },
   "outputs": [],
   "source": []
  },
  {
   "cell_type": "code",
   "execution_count": null,
   "metadata": {
    "collapsed": true
   },
   "outputs": [],
   "source": []
  },
  {
   "cell_type": "code",
   "execution_count": 11,
   "metadata": {},
   "outputs": [
    {
     "data": {
      "text/plain": [
       "(#<The STANDARD-CLASS NGLV::PDBIDSTRUCTURE> #<The STANDARD-CLASS STRUCTURE>\n",
       " #<The STANDARD-CLASS STANDARD-OBJECT> #<The BUILT-IN-CLASS T>)"
      ]
     },
     "execution_count": 11,
     "metadata": {},
     "output_type": "execute_result"
    }
   ],
   "source": [
    "(clos:class-precedence-list (find-class 'nglv::pdbidstructure))"
   ]
  },
  {
   "cell_type": "code",
   "execution_count": 3,
   "metadata": {},
   "outputs": [
    {
     "data": {
      "text/plain": [
       "*U*"
      ]
     },
     "execution_count": 3,
     "metadata": {},
     "output_type": "execute_result"
    }
   ],
   "source": [
    "(defparameter *u* \"http://files.rcsb.org/view/4HB1.cif\")"
   ]
  },
  {
   "cell_type": "code",
   "execution_count": 4,
   "metadata": {},
   "outputs": [
    {
     "data": {
      "text/plain": [
       "*R*"
      ]
     },
     "execution_count": 4,
     "metadata": {},
     "output_type": "execute_result"
    }
   ],
   "source": [
    "(defparameter *r* (trivial-http:http-get *u*))"
   ]
  },
  {
   "cell_type": "code",
   "execution_count": 5,
   "metadata": {},
   "outputs": [
    {
     "data": {
      "text/plain": [
       "(200\n",
       " ((:DATE . \"Wed, 12 Jul 2017 19:46:55 GMT\")\n",
       "  (:SERVER . \"Apache/2.4.18 (Ubuntu)\") (:EXPIRES . \"0\")\n",
       "  (:CACHE-CONTROL . \"must-revalidate, post-check=0, pre-check=0\")\n",
       "  (:PRAGMA . \"public\") (:VARY . \"Accept-Encoding\")\n",
       "  (:ACCESS-CONTROL-ALLOW-HEADERS\n",
       "   . \"Origin, X-Requested-With, Content-Type, Accept-Encoding\")\n",
       "  (:ACCESS-CONTROL-ALLOW-METHODS . \"GET, HEAD, DNT\")\n",
       "  (:ACCESS-CONTROL-ALLOW-ORIGIN . \"*\")\n",
       "  (:CONTENT-TYPE . \"text/plain;charset=UTF-8\") (:CONNECTION . \"close\"))\n",
       " #<TWO-WAY-STREAM >)"
      ]
     },
     "execution_count": 17,
     "metadata": {},
     "output_type": "execute_result"
    }
   ],
   "source": [
    "*r*"
   ]
  },
  {
   "cell_type": "code",
   "execution_count": 6,
   "metadata": {},
   "outputs": [
    {
     "data": {
      "text/plain": [
       "*S*"
      ]
     },
     "execution_count": 6,
     "metadata": {},
     "output_type": "execute_result"
    }
   ],
   "source": [
    "(defparameter *s* (third *r*))"
   ]
  },
  {
   "cell_type": "code",
   "execution_count": 7,
   "metadata": {},
   "outputs": [
    {
     "data": {
      "text/plain": [
       "#<TWO-WAY-STREAM >"
      ]
     },
     "execution_count": 7,
     "metadata": {},
     "output_type": "execute_result"
    }
   ],
   "source": [
    "*s*"
   ]
  },
  {
   "cell_type": "code",
   "execution_count": 8,
   "metadata": {},
   "outputs": [
    {
     "data": {
      "text/plain": [
       "*ST*"
      ]
     },
     "execution_count": 8,
     "metadata": {},
     "output_type": "execute_result"
    }
   ],
   "source": [
    "(defparameter *st* (make-string-output-stream))"
   ]
  },
  {
   "cell_type": "code",
   "execution_count": 9,
   "metadata": {},
   "outputs": [
    {
     "data": {
      "text/plain": [
       "68925"
      ]
     },
     "execution_count": 9,
     "metadata": {},
     "output_type": "execute_result"
    }
   ],
   "source": [
    "(trivial-http::copy-stream *s* *st*)"
   ]
  },
  {
   "cell_type": "code",
   "execution_count": 6,
   "metadata": {},
   "outputs": [
    {
     "data": {
      "text/plain": [
       "\"shit\""
      ]
     },
     "execution_count": 6,
     "metadata": {},
     "output_type": "execute_result"
    }
   ],
   "source": [
    "(cljw::assoc-value \"type\" '((\"data\" . :True) (\"type\" .\"shit\")))"
   ]
  },
  {
   "cell_type": "code",
   "execution_count": null,
   "metadata": {
    "collapsed": true
   },
   "outputs": [],
   "source": []
  }
 ],
 "metadata": {
  "kernelspec": {
   "display_name": "Cando",
   "language": "lisp",
   "name": "lisp"
  },
  "language_info": {
   "codemirror_mode": "text/x-common-lisp",
   "mimetype": "text/x-common-lisp",
   "name": "common-lisp",
   "pygments_lexer": "common-lisp",
   "version": "X3J13"
  }
 },
 "nbformat": 4,
 "nbformat_minor": 2
}
