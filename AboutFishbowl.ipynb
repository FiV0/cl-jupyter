{
 "metadata": {
  "language": "commonlisp",
  "name": "",
  "signature": "sha256:208b0b8f47c53566abf2cc129f029340fb9eb6a96ed8a01363c361207e1fb374"
 },
 "nbformat": 3,
 "nbformat_minor": 0,
 "worksheets": [
  {
   "cells": [
    {
     "cell_type": "heading",
     "level": 1,
     "metadata": {},
     "source": [
      "Fishbowl: an enhanced interactive Shell for Common Lisp"
     ]
    },
    {
     "cell_type": "markdown",
     "metadata": {},
     "source": [
      "This document is a short presentation of *Fishbowl* which is, technically-speaking, a Common Lisp implementation of an IPython kernel. So what does this means in practice ?  Let's see.\n",
      "\n",
      "(C) 2015 Frederic Peschanski -- CC-BY-SA 3.0"
     ]
    },
    {
     "cell_type": "heading",
     "level": 2,
     "metadata": {},
     "source": [
      "A (somewhat poor man's) distributed Lisp REPL"
     ]
    },
    {
     "cell_type": "markdown",
     "metadata": {},
     "source": [
      "Basically IPython is a better shell (understand REPL) for the Python programming language. So what the h.ck is the relationship with Lisp ? Well, the IPython architecture allows distributed (unsecure !) interactions between :\n",
      "\n",
      " - clients -- called *frontends* -- that manage the user-part of the interactions : reading expressions, printing results and such, and\n",
      " \n",
      "  - servers -- called *kernels* -- that actually perform the computations.\n",
      "  \n",
      "So in an IPython REPL, the frontends play the R and P parts, while the kernels play the E part.\n",
      "\n",
      "Fishbowl is thus the Eval part while the existing IPython frontends can be used for Reading and Printing.\n",
      "\n",
      "Basic interactions would look like the following :"
     ]
    },
    {
     "cell_type": "code",
     "collapsed": false,
     "input": [
      "(+ 2 12)"
     ],
     "language": "python",
     "metadata": {},
     "outputs": [
      {
       "metadata": {},
       "output_type": "pyout",
       "prompt_number": 1,
       "text": [
        "14"
       ]
      }
     ],
     "prompt_number": 1
    },
    {
     "cell_type": "markdown",
     "metadata": {},
     "source": [
      "Things happen like these :\n",
      "\n",
      "  - first, the frontend reads the Lisp expression `(+ 2 12)`\n",
      "  \n",
      "  - this expression is sent, through the network (ZMQ sockets to be precise), to the Fishbowl kernel, which performs the corresponding computation (thanks to the `eval` function of course).\n",
      "  \n",
      "  - the resuling value `14` is then sent back to the frontend for printing, and that's it.\n",
      "  \n",
      "In case the expression yields side effects, such as writing a file, these are actually performed by Fishbowl so one should take care servicing kernels only on private networks ! The standard output and error streams are captured and thus visible from the frontend side."
     ]
    },
    {
     "cell_type": "code",
     "collapsed": false,
     "input": [
      "(format t \"I compute (+ 2 12), yielding ~A\" (+ 2 12))"
     ],
     "language": "python",
     "metadata": {},
     "outputs": [
      {
       "output_type": "stream",
       "stream": "stdout",
       "text": [
        "I compute (+ 2 12), yielding 14"
       ]
      },
      {
       "metadata": {},
       "output_type": "pyout",
       "prompt_number": 2,
       "text": [
        "NIL"
       ]
      }
     ],
     "prompt_number": 2
    },
    {
     "cell_type": "markdown",
     "metadata": {},
     "source": [
      "The second expression, namely `In [2]`, yields the `NIL` value, namely `Out [2]`, but the formatted string written on the `*standard-output*` stream is also printed.\n",
      "\n",
      "Errors are also printed,as the following (counter-)example shows :"
     ]
    },
    {
     "cell_type": "code",
     "collapsed": false,
     "input": [
      "(/ 2 0)"
     ],
     "language": "python",
     "metadata": {},
     "outputs": [
      {
       "output_type": "stream",
       "stream": "stderr",
       "text": [
        "DIVISION-BY-ZERO: \n",
        "  #<DIVISION-BY-ZERO {1007988493}>\n"
       ]
      },
      {
       "metadata": {},
       "output_type": "pyout",
       "prompt_number": 3,
       "text": [
        "NIL"
       ]
      }
     ],
     "prompt_number": 3
    },
    {
     "cell_type": "markdown",
     "metadata": {},
     "source": [
      "We remark that, at least in the current version, Fishbowl does *not* support interactions with the Lisp debugger.\n",
      "\n",
      "This is a good moment to stay something important :\n",
      "\n",
      "> Fishbowl is **not** intended as a replacement for SlimE or SlimV.\n",
      "\n",
      "Indeed, this would imply replacing Emacs of Vim for starting with ...\n",
      "\n",
      "At the very best, Fishbowl (together with the IPython frontend) could be seen as a replacement for the basic REPL of most Common Lisp implementations (as for now without the debugger).  An interface with Swank (the \"kernel\" part of SlimE/V) would be a strong improvement here, but that is only for now a wish (contributors welcome !).\n",
      "\n",
      "Some features might already prove useful. First and foremost, the distributed architecture of IPython/Fishbowl allows to connect multiple frontends to multiple kernels, as well as exchanging Data. Since IPython kernels exist for a growing number of programming languages (Python, Ruby, Julia, Ocaml, Haskell, etc.), this opens many possibilities such as writing interactive distributed applications developped in a multi-languages environment (which appeals much more to me than the *everything-in-javascript* trend of the moment).\n",
      "\n",
      "But a question remains: is *Fishbowl* bringing something to the Lisp table ?  Obviously, a not-really-better REPL does not.  The main reason why *Fishbowl* was written in the first place is for supporting IPython *notebooks*. "
     ]
    },
    {
     "cell_type": "heading",
     "level": 2,
     "metadata": {},
     "source": [
      "A Lisp environment for interactive documents"
     ]
    },
    {
     "cell_type": "markdown",
     "metadata": {},
     "source": [
      "So what is a notebook ? Well, that's easy, this is what you are reading now !\n",
      "\n",
      "It is a document mixing :\n",
      "\n",
      "  - *Markdown*-formatted **text**  (optionally including *Latex/Mathjax* formulas)\n",
      "  \n",
      "  - **Computations** described in various language, Common Lisp as far as Fishbowl is concerned.\n",
      "  \n",
      "For example, *Leonardo* may write a fantastically clever algorithm for an important computation :"
     ]
    },
    {
     "cell_type": "code",
     "collapsed": false,
     "input": [
      "(defun fibonacci (n)\n",
      "    (if (<= n 1)\n",
      "        1\n",
      "        (+ (fibonacci (- n 2)) (fibonacci (- n 1)))))"
     ],
     "language": "python",
     "metadata": {},
     "outputs": [
      {
       "metadata": {},
       "output_type": "pyout",
       "prompt_number": 4,
       "text": [
        "FIBONACCI"
       ]
      }
     ],
     "prompt_number": 4
    },
    {
     "cell_type": "markdown",
     "metadata": {},
     "source": [
      "And then, Leonardo can answer one of its most desired question :"
     ]
    },
    {
     "cell_type": "code",
     "collapsed": false,
     "input": [
      "(fibonacci 10)"
     ],
     "language": "python",
     "metadata": {},
     "outputs": [
      {
       "metadata": {},
       "output_type": "pyout",
       "prompt_number": 5,
       "text": [
        "89"
       ]
      }
     ],
     "prompt_number": 5
    },
    {
     "cell_type": "code",
     "collapsed": false,
     "input": [
      "(loop for k below 10 collect (fibonacci k))"
     ],
     "language": "python",
     "metadata": {},
     "outputs": [
      {
       "metadata": {},
       "output_type": "pyout",
       "prompt_number": 5,
       "text": [
        "(1 1 2 3 5 8 13 21 34 55)"
       ]
      }
     ],
     "prompt_number": 5
    },
    {
     "cell_type": "markdown",
     "metadata": {},
     "source": [
      "and then, comment about such computations, such that making conjectures or wonderings...\n",
      "\n",
      "What about $\\lim_{k \\rightarrow +\\infty} \\frac{F_{k+1}}{F_k}$  with $F_k$ the $k$-th term of the Fibonacci serie ?\n",
      "\n",
      "Well, let's check this ..."
     ]
    },
    {
     "cell_type": "code",
     "collapsed": false,
     "input": [
      "(loop for k from 2 below 20 collect (/ (fibonacci (1+ k)) (fibonacci k)))"
     ],
     "language": "python",
     "metadata": {},
     "outputs": [
      {
       "metadata": {},
       "output_type": "pyout",
       "prompt_number": 7,
       "text": [
        "(3/2 5/3 8/5 13/8 21/13 34/21 55/34 89/55 144/89 233/144 377/233 610/377 987/610 1597/987 2584/1597 4181/2584 6765/4181 10946/6765)"
       ]
      }
     ],
     "prompt_number": 7
    },
    {
     "cell_type": "markdown",
     "metadata": {},
     "source": [
      "*Oops* ... don't want the exact rational values but approximations ..."
     ]
    },
    {
     "cell_type": "code",
     "collapsed": false,
     "input": [
      "(loop \n",
      " for k from 2 below 20 \n",
      " collect (float (/ (fibonacci (1+ k)) (fibonacci k))))"
     ],
     "language": "python",
     "metadata": {},
     "outputs": [
      {
       "metadata": {},
       "output_type": "pyout",
       "prompt_number": 6,
       "text": [
        "(1.5 1.6666666 1.6 1.625 1.6153846 1.6190476 1.617647 1.6181818 1.6179775\n",
        " 1.6180556 1.6180258 1.6180371 1.6180328 1.6180345 1.6180338 1.618034 1.618034\n",
        " 1.618034)"
       ]
      }
     ],
     "prompt_number": 6
    },
    {
     "cell_type": "markdown",
     "metadata": {},
     "source": [
      "What is this value $1.618034$ ?  ... seems not far from ... $\\frac{1+\\sqrt{5}}{2}$"
     ]
    },
    {
     "cell_type": "code",
     "collapsed": false,
     "input": [
      "(/ (+ 1 (sqrt 5))\n",
      "   2)"
     ],
     "language": "python",
     "metadata": {},
     "outputs": [
      {
       "metadata": {},
       "output_type": "pyout",
       "prompt_number": 2,
       "text": [
        "1.618034"
       ]
      }
     ],
     "prompt_number": 2
    },
    {
     "cell_type": "markdown",
     "metadata": {},
     "source": [
      "Don't you think this number looks shiny ?"
     ]
    },
    {
     "cell_type": "markdown",
     "metadata": {},
     "source": [
      "This (probably unsuccessful) half-joke at least summarizes the way I am using notebooks in my own teaching and research work.\n",
      "\n",
      "At the technical level, the IPython notebook server is simply a frontend developped as a complete web application that can connect to any kernel, among which of course Fishbowl."
     ]
    },
    {
     "cell_type": "heading",
     "level": 2,
     "metadata": {},
     "source": [
      "Rich display"
     ]
    },
    {
     "cell_type": "markdown",
     "metadata": {},
     "source": [
      "The notebook provide rich display for textual and graphical data. The package `fishbowl-user` provides a few functions for producing displayable data in Lisp.\n",
      "\n",
      "By default, the Lisp backend works in the `fishbowl-user` package, which we can check right away:"
     ]
    },
    {
     "cell_type": "code",
     "collapsed": false,
     "input": [
      "*package*"
     ],
     "language": "python",
     "metadata": {},
     "outputs": [
      {
       "metadata": {},
       "output_type": "pyout",
       "prompt_number": 3,
       "text": [
        "#<PACKAGE \"FISHBOWL-USER\">"
       ]
      }
     ],
     "prompt_number": 3
    },
    {
     "cell_type": "heading",
     "level": 3,
     "metadata": {},
     "source": [
      "Customized plain text"
     ]
    },
    {
     "cell_type": "markdown",
     "metadata": {},
     "source": [
      "By default, the data produced by the Lisp kernel is formatted as in `(format t \"~S\" <data>)`, i.e. roughly the same way the Lisp REPL works. The produced Lisp string is then encoded as a JSON string and sent back to the frontend(s).\n",
      "\n",
      "Let's see what happens with a string."
     ]
    },
    {
     "cell_type": "code",
     "collapsed": false,
     "input": [
      "\"this is a string with a\n",
      "new line\""
     ],
     "language": "python",
     "metadata": {},
     "outputs": [
      {
       "metadata": {},
       "output_type": "pyout",
       "prompt_number": 10,
       "text": [
        "\"this is a string with a\n",
        "new line\""
       ]
      }
     ],
     "prompt_number": 10
    },
    {
     "cell_type": "markdown",
     "metadata": {},
     "source": [
      "Suppose now we would like to define a particular kind of string where new lines are replaced (in the shown output) by JSon new lines, i.e. the string `\"\\n\"`.\n",
      "\n",
      "The simplest way to do so is to create a CLOS class to encoded our special strings."
     ]
    },
    {
     "cell_type": "code",
     "collapsed": false,
     "input": [
      "(defclass custom-string ()\n",
      "    ((content :initarg :content :reader cstr-content)))"
     ],
     "language": "python",
     "metadata": {},
     "outputs": [
      {
       "metadata": {},
       "output_type": "pyout",
       "prompt_number": 1,
       "text": [
        "#<STANDARD-CLASS CUSTOM-STRING>"
       ]
      }
     ],
     "prompt_number": 1
    },
    {
     "cell_type": "code",
     "collapsed": false,
     "input": [
      "(defun custom-string (str)\n",
      "    (make-instance 'custom-string :content str))"
     ],
     "language": "python",
     "metadata": {},
     "outputs": [
      {
       "metadata": {},
       "output_type": "pyout",
       "prompt_number": 2,
       "text": [
        "CUSTOM-STRING"
       ]
      }
     ],
     "prompt_number": 2
    },
    {
     "cell_type": "markdown",
     "metadata": {},
     "source": [
      "Now, we have to specialize a generic method `render-plain` to produce our customized strings."
     ]
    },
    {
     "cell_type": "code",
     "collapsed": false,
     "input": [
      "(defmethod render-plain ((str-obj custom-string))\n",
      "    (let ((ncontent (make-array (length (cstr-content str-obj)) \n",
      "                                :element-type 'character :fill-pointer 0 :adjustable t)))\n",
      "        (loop for char across (cstr-content str-obj)\n",
      "              for index from 0\n",
      "              do (cond ((char= char #\\Newline)\n",
      "                        (vector-push-extend #\\\\ ncontent)\n",
      "                        (vector-push-extend #\\n ncontent))\n",
      "                       (t (vector-push-extend char ncontent))))\n",
      "         (format nil \"\\\"~A\\\"\" ncontent)))"
     ],
     "language": "python",
     "metadata": {},
     "outputs": [
      {
       "metadata": {},
       "output_type": "pyout",
       "prompt_number": 5,
       "text": [
        "#<STANDARD-METHOD RENDER-PLAIN (CUSTOM-STRING)>"
       ]
      }
     ],
     "prompt_number": 5
    },
    {
     "cell_type": "markdown",
     "metadata": {},
     "source": [
      "Let's try our customized strings ..."
     ]
    },
    {
     "cell_type": "code",
     "collapsed": false,
     "input": [
      "(custom-string \"this is a customized string with a\n",
      " new line\")"
     ],
     "language": "python",
     "metadata": {},
     "outputs": [
      {
       "metadata": {},
       "output_type": "pyout",
       "prompt_number": 6,
       "text": [
        "\"this is a customized string with a\\n new line\""
       ]
      }
     ],
     "prompt_number": 6
    },
    {
     "cell_type": "heading",
     "level": 3,
     "metadata": {},
     "source": [
      "Programmatically-generated Latex"
     ]
    },
    {
     "cell_type": "markdown",
     "metadata": {},
     "source": [
      "Another common textual data displayed on notebooks is rich text encoded using the Markdown format. The same way we customized a plain representation, we can specialize the `render_markdown` for a specific use. However a `markdown` function is provided as a convenience."
     ]
    },
    {
     "cell_type": "code",
     "collapsed": false,
     "input": [
      "(defun show-fraction (num den)\n",
      "    (latex (format nil \"$\\\\frac{~A}{~A}$\" num den)))"
     ],
     "language": "python",
     "metadata": {},
     "outputs": [
      {
       "metadata": {},
       "output_type": "pyout",
       "prompt_number": 3,
       "text": [
        "SHOW-FRACTION"
       ]
      }
     ],
     "prompt_number": 3
    },
    {
     "cell_type": "code",
     "collapsed": false,
     "input": [
      "(show-fraction 1 18)"
     ],
     "language": "python",
     "metadata": {},
     "outputs": [
      {
       "latex": [
        "$\\frac{1}{18}$"
       ],
       "metadata": {},
       "output_type": "pyout",
       "prompt_number": 4,
       "text": [
        "#<LATEX-TEXT #x302001C2EC4D>"
       ]
      }
     ],
     "prompt_number": 4
    },
    {
     "cell_type": "heading",
     "level": 3,
     "metadata": {},
     "source": [
      "Vector images as SVG"
     ]
    },
    {
     "cell_type": "code",
     "collapsed": false,
     "input": [
      "(svg-from-file \"profile/fishbowl-small.svg\")"
     ],
     "language": "python",
     "metadata": {},
     "outputs": []
    },
    {
     "cell_type": "heading",
     "level": 3,
     "metadata": {},
     "source": [
      "Bitmap images as PNG"
     ]
    },
    {
     "cell_type": "code",
     "collapsed": false,
     "input": [],
     "language": "python",
     "metadata": {},
     "outputs": []
    },
    {
     "cell_type": "heading",
     "level": 2,
     "metadata": {},
     "source": [
      "To be continued ..."
     ]
    },
    {
     "cell_type": "code",
     "collapsed": false,
     "input": [],
     "language": "python",
     "metadata": {},
     "outputs": []
    }
   ],
   "metadata": {}
  }
 ]
}